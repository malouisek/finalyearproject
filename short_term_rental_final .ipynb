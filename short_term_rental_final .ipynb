{
 "cells": [
  {
   "cell_type": "code",
   "execution_count": null,
   "id": "3289c00a",
   "metadata": {},
   "outputs": [],
   "source": [
    "#pip install numpy\n",
    "#pip install seaborn\n",
    "#pip install panda\n",
    "#pip install matplotlib\n",
    "#pip install scikit-learn\n",
    "#pip install plotly\n",
    "#pip install print_function"
   ]
  },
  {
   "cell_type": "code",
   "execution_count": 1,
   "id": "303dd1b3",
   "metadata": {},
   "outputs": [],
   "source": [
    "# Importing the libraries\n",
    "import numpy as np\n",
    "import seaborn as sns\n",
    "import pandas as pd\n",
    "import matplotlib as mpl\n",
    "import matplotlib.pyplot as plt\n",
    "import plotly.graph_objects as go\n",
    "from sklearn.decomposition import PCA\n",
    "from sklearn.decomposition import PCA\n",
    "from sklearn.preprocessing import StandardScaler\n",
    "from sklearn.linear_model import LinearRegression, Lasso, Ridge, ElasticNet\n",
    "from sklearn.metrics import mean_squared_error\n",
    "from sklearn.preprocessing import PolynomialFeatures, MinMaxScaler, LabelEncoder\n",
    "from sklearn.metrics import r2_score\n",
    "from sklearn.model_selection import train_test_split\n",
    "from sklearn.feature_selection import RFE\n",
    "from sklearn.ensemble import ExtraTreesRegressor\n",
    "\n",
    "#adds compatibility with new versions of Python\n",
    "from __future__  import print_function \n",
    "%matplotlib inline \n",
    "\n",
    "#it needs to have two underscore for 'future', if not it thorws an error: \n",
    "#ModuleNotFoundError: No module named '_future_'\n",
    "\n",
    "import warnings\n",
    "warnings.filterwarnings(\"ignore\") #This command ignores the warning \n"
   ]
  },
  {
   "cell_type": "markdown",
   "id": "de81139b",
   "metadata": {},
   "source": [
    "Intro"
   ]
  },
  {
   "cell_type": "markdown",
   "id": "6a612ad0",
   "metadata": {},
   "source": [
    "- EDA to be done using and merging the first 5 datasets, needs to be cleaned, wrangled and adjusted accordingly. \n",
    "- Some of the datasets are for trends and whether or not features influence reviews that influence occupancy that generates higher ROI. \n",
    "- The dataset for ML is the last one, it is a sample data of Dublin, we want to identify the occupancy rate in the future. "
   ]
  },
  {
   "cell_type": "markdown",
   "id": "0a278aae",
   "metadata": {},
   "source": [
    "Data Analysis and Cleaning "
   ]
  },
  {
   "cell_type": "markdown",
   "id": "34c41434",
   "metadata": {},
   "source": [
    "- Dataset 1: Listing"
   ]
  },
  {
   "cell_type": "code",
   "execution_count": 2,
   "id": "e8c9c6fc",
   "metadata": {},
   "outputs": [],
   "source": [
    "#Importing the dataset #1\n",
    "#The dataset chosen for this project is listings for Airbnb \n",
    "listing = pd.read_csv('listings.csv')"
   ]
  },
  {
   "cell_type": "code",
   "execution_count": 3,
   "id": "9b0931ac",
   "metadata": {},
   "outputs": [
    {
     "data": {
      "text/html": [
       "<div>\n",
       "<style scoped>\n",
       "    .dataframe tbody tr th:only-of-type {\n",
       "        vertical-align: middle;\n",
       "    }\n",
       "\n",
       "    .dataframe tbody tr th {\n",
       "        vertical-align: top;\n",
       "    }\n",
       "\n",
       "    .dataframe thead th {\n",
       "        text-align: right;\n",
       "    }\n",
       "</style>\n",
       "<table border=\"1\" class=\"dataframe\">\n",
       "  <thead>\n",
       "    <tr style=\"text-align: right;\">\n",
       "      <th></th>\n",
       "      <th>id</th>\n",
       "      <th>name</th>\n",
       "      <th>host_id</th>\n",
       "      <th>host_name</th>\n",
       "      <th>neighbourhood_group</th>\n",
       "      <th>neighbourhood</th>\n",
       "      <th>latitude</th>\n",
       "      <th>longitude</th>\n",
       "      <th>room_type</th>\n",
       "      <th>price</th>\n",
       "      <th>minimum_nights</th>\n",
       "      <th>number_of_reviews</th>\n",
       "      <th>last_review</th>\n",
       "      <th>reviews_per_month</th>\n",
       "      <th>calculated_host_listings_count</th>\n",
       "      <th>availability_365</th>\n",
       "      <th>number_of_reviews_ltm</th>\n",
       "      <th>license</th>\n",
       "    </tr>\n",
       "  </thead>\n",
       "  <tbody>\n",
       "    <tr>\n",
       "      <th>0</th>\n",
       "      <td>44077</td>\n",
       "      <td>cosy comfortable Irish cottage twin</td>\n",
       "      <td>193005</td>\n",
       "      <td>Teresa</td>\n",
       "      <td>NaN</td>\n",
       "      <td>Dn Laoghaire-Rathdown</td>\n",
       "      <td>53.29178</td>\n",
       "      <td>-6.25792</td>\n",
       "      <td>Private room</td>\n",
       "      <td>65</td>\n",
       "      <td>3</td>\n",
       "      <td>227</td>\n",
       "      <td>2020-03-06</td>\n",
       "      <td>1.74</td>\n",
       "      <td>3</td>\n",
       "      <td>233</td>\n",
       "      <td>0</td>\n",
       "      <td>NaN</td>\n",
       "    </tr>\n",
       "    <tr>\n",
       "      <th>1</th>\n",
       "      <td>85148</td>\n",
       "      <td>Habitación en Dublín Double room</td>\n",
       "      <td>466111</td>\n",
       "      <td>Don</td>\n",
       "      <td>NaN</td>\n",
       "      <td>South Dublin</td>\n",
       "      <td>53.29885</td>\n",
       "      <td>-6.31850</td>\n",
       "      <td>Private room</td>\n",
       "      <td>30</td>\n",
       "      <td>1</td>\n",
       "      <td>1</td>\n",
       "      <td>2019-05-11</td>\n",
       "      <td>0.03</td>\n",
       "      <td>1</td>\n",
       "      <td>99</td>\n",
       "      <td>0</td>\n",
       "      <td>NaN</td>\n",
       "    </tr>\n",
       "    <tr>\n",
       "      <th>2</th>\n",
       "      <td>85156</td>\n",
       "      <td>Cosy Comfortable Irish Cottage  1 Double Bed</td>\n",
       "      <td>193005</td>\n",
       "      <td>Teresa</td>\n",
       "      <td>NaN</td>\n",
       "      <td>Dn Laoghaire-Rathdown</td>\n",
       "      <td>53.29209</td>\n",
       "      <td>-6.25624</td>\n",
       "      <td>Private room</td>\n",
       "      <td>61</td>\n",
       "      <td>3</td>\n",
       "      <td>182</td>\n",
       "      <td>2020-03-09</td>\n",
       "      <td>1.42</td>\n",
       "      <td>3</td>\n",
       "      <td>323</td>\n",
       "      <td>0</td>\n",
       "      <td>NaN</td>\n",
       "    </tr>\n",
       "    <tr>\n",
       "      <th>3</th>\n",
       "      <td>159889</td>\n",
       "      <td>Friendly Single Room</td>\n",
       "      <td>766611</td>\n",
       "      <td>Margaret</td>\n",
       "      <td>NaN</td>\n",
       "      <td>Dublin City</td>\n",
       "      <td>53.39027</td>\n",
       "      <td>-6.23547</td>\n",
       "      <td>Private room</td>\n",
       "      <td>40</td>\n",
       "      <td>2</td>\n",
       "      <td>316</td>\n",
       "      <td>2021-12-05</td>\n",
       "      <td>2.67</td>\n",
       "      <td>3</td>\n",
       "      <td>324</td>\n",
       "      <td>5</td>\n",
       "      <td>NaN</td>\n",
       "    </tr>\n",
       "    <tr>\n",
       "      <th>4</th>\n",
       "      <td>162809</td>\n",
       "      <td>5.5 miles south of Dublin City :^)</td>\n",
       "      <td>777681</td>\n",
       "      <td>Robert</td>\n",
       "      <td>NaN</td>\n",
       "      <td>Dn Laoghaire-Rathdown</td>\n",
       "      <td>53.28326</td>\n",
       "      <td>-6.19188</td>\n",
       "      <td>Private room</td>\n",
       "      <td>65</td>\n",
       "      <td>1</td>\n",
       "      <td>288</td>\n",
       "      <td>2021-10-19</td>\n",
       "      <td>3.62</td>\n",
       "      <td>2</td>\n",
       "      <td>114</td>\n",
       "      <td>4</td>\n",
       "      <td>NaN</td>\n",
       "    </tr>\n",
       "  </tbody>\n",
       "</table>\n",
       "</div>"
      ],
      "text/plain": [
       "       id                                          name  host_id host_name  \\\n",
       "0   44077           cosy comfortable Irish cottage twin   193005    Teresa   \n",
       "1   85148              Habitación en Dublín Double room   466111       Don   \n",
       "2   85156  Cosy Comfortable Irish Cottage  1 Double Bed   193005    Teresa   \n",
       "3  159889                          Friendly Single Room   766611  Margaret   \n",
       "4  162809            5.5 miles south of Dublin City :^)   777681    Robert   \n",
       "\n",
       "   neighbourhood_group          neighbourhood  latitude  longitude  \\\n",
       "0                  NaN  Dn Laoghaire-Rathdown  53.29178   -6.25792   \n",
       "1                  NaN           South Dublin  53.29885   -6.31850   \n",
       "2                  NaN  Dn Laoghaire-Rathdown  53.29209   -6.25624   \n",
       "3                  NaN            Dublin City  53.39027   -6.23547   \n",
       "4                  NaN  Dn Laoghaire-Rathdown  53.28326   -6.19188   \n",
       "\n",
       "      room_type  price  minimum_nights  number_of_reviews last_review  \\\n",
       "0  Private room     65               3                227  2020-03-06   \n",
       "1  Private room     30               1                  1  2019-05-11   \n",
       "2  Private room     61               3                182  2020-03-09   \n",
       "3  Private room     40               2                316  2021-12-05   \n",
       "4  Private room     65               1                288  2021-10-19   \n",
       "\n",
       "   reviews_per_month  calculated_host_listings_count  availability_365  \\\n",
       "0               1.74                               3               233   \n",
       "1               0.03                               1                99   \n",
       "2               1.42                               3               323   \n",
       "3               2.67                               3               324   \n",
       "4               3.62                               2               114   \n",
       "\n",
       "   number_of_reviews_ltm  license  \n",
       "0                      0      NaN  \n",
       "1                      0      NaN  \n",
       "2                      0      NaN  \n",
       "3                      5      NaN  \n",
       "4                      4      NaN  "
      ]
     },
     "execution_count": 3,
     "metadata": {},
     "output_type": "execute_result"
    }
   ],
   "source": [
    "#View dataset head and tail\n",
    "listing.head()"
   ]
  },
  {
   "cell_type": "code",
   "execution_count": null,
   "id": "5d7cbec9",
   "metadata": {},
   "outputs": [],
   "source": [
    "listing.tail()"
   ]
  },
  {
   "cell_type": "code",
   "execution_count": 4,
   "id": "3a55ab3b",
   "metadata": {},
   "outputs": [
    {
     "data": {
      "text/plain": [
       "(6977, 18)"
      ]
     },
     "execution_count": 4,
     "metadata": {},
     "output_type": "execute_result"
    }
   ],
   "source": [
    "listing.shape"
   ]
  },
  {
   "cell_type": "code",
   "execution_count": null,
   "id": "a236b013",
   "metadata": {},
   "outputs": [],
   "source": [
    "listing.info()"
   ]
  },
  {
   "cell_type": "code",
   "execution_count": 5,
   "id": "c85a5b0b",
   "metadata": {},
   "outputs": [
    {
     "data": {
      "text/html": [
       "<div>\n",
       "<style scoped>\n",
       "    .dataframe tbody tr th:only-of-type {\n",
       "        vertical-align: middle;\n",
       "    }\n",
       "\n",
       "    .dataframe tbody tr th {\n",
       "        vertical-align: top;\n",
       "    }\n",
       "\n",
       "    .dataframe thead th {\n",
       "        text-align: right;\n",
       "    }\n",
       "</style>\n",
       "<table border=\"1\" class=\"dataframe\">\n",
       "  <thead>\n",
       "    <tr style=\"text-align: right;\">\n",
       "      <th></th>\n",
       "      <th>id</th>\n",
       "      <th>host_id</th>\n",
       "      <th>neighbourhood_group</th>\n",
       "      <th>latitude</th>\n",
       "      <th>longitude</th>\n",
       "      <th>price</th>\n",
       "      <th>minimum_nights</th>\n",
       "      <th>number_of_reviews</th>\n",
       "      <th>reviews_per_month</th>\n",
       "      <th>calculated_host_listings_count</th>\n",
       "      <th>availability_365</th>\n",
       "      <th>number_of_reviews_ltm</th>\n",
       "      <th>license</th>\n",
       "    </tr>\n",
       "  </thead>\n",
       "  <tbody>\n",
       "    <tr>\n",
       "      <th>count</th>\n",
       "      <td>6.977000e+03</td>\n",
       "      <td>6.977000e+03</td>\n",
       "      <td>0.0</td>\n",
       "      <td>6977.000000</td>\n",
       "      <td>6977.000000</td>\n",
       "      <td>6.977000e+03</td>\n",
       "      <td>6977.000000</td>\n",
       "      <td>6977.000000</td>\n",
       "      <td>5527.000000</td>\n",
       "      <td>6977.000000</td>\n",
       "      <td>6977.000000</td>\n",
       "      <td>6977.000000</td>\n",
       "      <td>0.0</td>\n",
       "    </tr>\n",
       "    <tr>\n",
       "      <th>mean</th>\n",
       "      <td>2.659650e+07</td>\n",
       "      <td>1.023079e+08</td>\n",
       "      <td>NaN</td>\n",
       "      <td>53.345333</td>\n",
       "      <td>-6.255625</td>\n",
       "      <td>3.019986e+02</td>\n",
       "      <td>8.927189</td>\n",
       "      <td>30.272753</td>\n",
       "      <td>0.963123</td>\n",
       "      <td>7.251971</td>\n",
       "      <td>65.408772</td>\n",
       "      <td>2.958005</td>\n",
       "      <td>NaN</td>\n",
       "    </tr>\n",
       "    <tr>\n",
       "      <th>std</th>\n",
       "      <td>1.426913e+07</td>\n",
       "      <td>1.005189e+08</td>\n",
       "      <td>NaN</td>\n",
       "      <td>0.044036</td>\n",
       "      <td>0.057919</td>\n",
       "      <td>1.405164e+04</td>\n",
       "      <td>42.118071</td>\n",
       "      <td>59.819724</td>\n",
       "      <td>2.070010</td>\n",
       "      <td>25.062374</td>\n",
       "      <td>114.209065</td>\n",
       "      <td>11.218871</td>\n",
       "      <td>NaN</td>\n",
       "    </tr>\n",
       "    <tr>\n",
       "      <th>min</th>\n",
       "      <td>4.407700e+04</td>\n",
       "      <td>4.398400e+04</td>\n",
       "      <td>NaN</td>\n",
       "      <td>53.205780</td>\n",
       "      <td>-6.488790</td>\n",
       "      <td>9.000000e+00</td>\n",
       "      <td>1.000000</td>\n",
       "      <td>0.000000</td>\n",
       "      <td>0.010000</td>\n",
       "      <td>1.000000</td>\n",
       "      <td>0.000000</td>\n",
       "      <td>0.000000</td>\n",
       "      <td>NaN</td>\n",
       "    </tr>\n",
       "    <tr>\n",
       "      <th>25%</th>\n",
       "      <td>1.529708e+07</td>\n",
       "      <td>2.441876e+07</td>\n",
       "      <td>NaN</td>\n",
       "      <td>53.330220</td>\n",
       "      <td>-6.278780</td>\n",
       "      <td>5.500000e+01</td>\n",
       "      <td>1.000000</td>\n",
       "      <td>1.000000</td>\n",
       "      <td>0.100000</td>\n",
       "      <td>1.000000</td>\n",
       "      <td>0.000000</td>\n",
       "      <td>0.000000</td>\n",
       "      <td>NaN</td>\n",
       "    </tr>\n",
       "    <tr>\n",
       "      <th>50%</th>\n",
       "      <td>2.450335e+07</td>\n",
       "      <td>6.504127e+07</td>\n",
       "      <td>NaN</td>\n",
       "      <td>53.343990</td>\n",
       "      <td>-6.260634</td>\n",
       "      <td>8.500000e+01</td>\n",
       "      <td>2.000000</td>\n",
       "      <td>6.000000</td>\n",
       "      <td>0.390000</td>\n",
       "      <td>1.000000</td>\n",
       "      <td>0.000000</td>\n",
       "      <td>0.000000</td>\n",
       "      <td>NaN</td>\n",
       "    </tr>\n",
       "    <tr>\n",
       "      <th>75%</th>\n",
       "      <td>3.711744e+07</td>\n",
       "      <td>1.534091e+08</td>\n",
       "      <td>NaN</td>\n",
       "      <td>53.356460</td>\n",
       "      <td>-6.235200</td>\n",
       "      <td>1.480000e+02</td>\n",
       "      <td>4.000000</td>\n",
       "      <td>29.000000</td>\n",
       "      <td>1.190000</td>\n",
       "      <td>3.000000</td>\n",
       "      <td>78.000000</td>\n",
       "      <td>1.000000</td>\n",
       "      <td>NaN</td>\n",
       "    </tr>\n",
       "    <tr>\n",
       "      <th>max</th>\n",
       "      <td>5.372030e+07</td>\n",
       "      <td>4.349262e+08</td>\n",
       "      <td>NaN</td>\n",
       "      <td>53.623490</td>\n",
       "      <td>-6.052910</td>\n",
       "      <td>1.173721e+06</td>\n",
       "      <td>1125.000000</td>\n",
       "      <td>648.000000</td>\n",
       "      <td>81.060000</td>\n",
       "      <td>162.000000</td>\n",
       "      <td>365.000000</td>\n",
       "      <td>366.000000</td>\n",
       "      <td>NaN</td>\n",
       "    </tr>\n",
       "  </tbody>\n",
       "</table>\n",
       "</div>"
      ],
      "text/plain": [
       "                 id       host_id  neighbourhood_group     latitude  \\\n",
       "count  6.977000e+03  6.977000e+03                  0.0  6977.000000   \n",
       "mean   2.659650e+07  1.023079e+08                  NaN    53.345333   \n",
       "std    1.426913e+07  1.005189e+08                  NaN     0.044036   \n",
       "min    4.407700e+04  4.398400e+04                  NaN    53.205780   \n",
       "25%    1.529708e+07  2.441876e+07                  NaN    53.330220   \n",
       "50%    2.450335e+07  6.504127e+07                  NaN    53.343990   \n",
       "75%    3.711744e+07  1.534091e+08                  NaN    53.356460   \n",
       "max    5.372030e+07  4.349262e+08                  NaN    53.623490   \n",
       "\n",
       "         longitude         price  minimum_nights  number_of_reviews  \\\n",
       "count  6977.000000  6.977000e+03     6977.000000        6977.000000   \n",
       "mean     -6.255625  3.019986e+02        8.927189          30.272753   \n",
       "std       0.057919  1.405164e+04       42.118071          59.819724   \n",
       "min      -6.488790  9.000000e+00        1.000000           0.000000   \n",
       "25%      -6.278780  5.500000e+01        1.000000           1.000000   \n",
       "50%      -6.260634  8.500000e+01        2.000000           6.000000   \n",
       "75%      -6.235200  1.480000e+02        4.000000          29.000000   \n",
       "max      -6.052910  1.173721e+06     1125.000000         648.000000   \n",
       "\n",
       "       reviews_per_month  calculated_host_listings_count  availability_365  \\\n",
       "count        5527.000000                     6977.000000       6977.000000   \n",
       "mean            0.963123                        7.251971         65.408772   \n",
       "std             2.070010                       25.062374        114.209065   \n",
       "min             0.010000                        1.000000          0.000000   \n",
       "25%             0.100000                        1.000000          0.000000   \n",
       "50%             0.390000                        1.000000          0.000000   \n",
       "75%             1.190000                        3.000000         78.000000   \n",
       "max            81.060000                      162.000000        365.000000   \n",
       "\n",
       "       number_of_reviews_ltm  license  \n",
       "count            6977.000000      0.0  \n",
       "mean                2.958005      NaN  \n",
       "std                11.218871      NaN  \n",
       "min                 0.000000      NaN  \n",
       "25%                 0.000000      NaN  \n",
       "50%                 0.000000      NaN  \n",
       "75%                 1.000000      NaN  \n",
       "max               366.000000      NaN  "
      ]
     },
     "execution_count": 5,
     "metadata": {},
     "output_type": "execute_result"
    }
   ],
   "source": [
    "#Print quick summary of the dataset statistics\n",
    "listing.describe()"
   ]
  },
  {
   "cell_type": "code",
   "execution_count": 6,
   "id": "a25eea51",
   "metadata": {},
   "outputs": [
    {
     "data": {
      "text/plain": [
       "id                                   0\n",
       "name                                 1\n",
       "host_id                              0\n",
       "host_name                            9\n",
       "neighbourhood_group               6977\n",
       "neighbourhood                        0\n",
       "latitude                             0\n",
       "longitude                            0\n",
       "room_type                            0\n",
       "price                                0\n",
       "minimum_nights                       0\n",
       "number_of_reviews                    0\n",
       "last_review                       1450\n",
       "reviews_per_month                 1450\n",
       "calculated_host_listings_count       0\n",
       "availability_365                     0\n",
       "number_of_reviews_ltm                0\n",
       "license                           6977\n",
       "dtype: int64"
      ]
     },
     "execution_count": 6,
     "metadata": {},
     "output_type": "execute_result"
    }
   ],
   "source": [
    "#Check for null values\n",
    "listing.isnull().sum()"
   ]
  },
  {
   "cell_type": "code",
   "execution_count": 7,
   "id": "9371fb4f",
   "metadata": {},
   "outputs": [
    {
     "data": {
      "text/html": [
       "<div>\n",
       "<style scoped>\n",
       "    .dataframe tbody tr th:only-of-type {\n",
       "        vertical-align: middle;\n",
       "    }\n",
       "\n",
       "    .dataframe tbody tr th {\n",
       "        vertical-align: top;\n",
       "    }\n",
       "\n",
       "    .dataframe thead th {\n",
       "        text-align: right;\n",
       "    }\n",
       "</style>\n",
       "<table border=\"1\" class=\"dataframe\">\n",
       "  <thead>\n",
       "    <tr style=\"text-align: right;\">\n",
       "      <th></th>\n",
       "      <th>id</th>\n",
       "      <th>name</th>\n",
       "      <th>host_id</th>\n",
       "      <th>host_name</th>\n",
       "      <th>neighbourhood_group</th>\n",
       "      <th>neighbourhood</th>\n",
       "      <th>latitude</th>\n",
       "      <th>longitude</th>\n",
       "      <th>room_type</th>\n",
       "      <th>price</th>\n",
       "      <th>minimum_nights</th>\n",
       "      <th>number_of_reviews</th>\n",
       "      <th>last_review</th>\n",
       "      <th>reviews_per_month</th>\n",
       "      <th>calculated_host_listings_count</th>\n",
       "      <th>availability_365</th>\n",
       "      <th>number_of_reviews_ltm</th>\n",
       "      <th>license</th>\n",
       "    </tr>\n",
       "  </thead>\n",
       "  <tbody>\n",
       "    <tr>\n",
       "      <th>0</th>\n",
       "      <td>44077</td>\n",
       "      <td>cosy comfortable Irish cottage twin</td>\n",
       "      <td>193005</td>\n",
       "      <td>Teresa</td>\n",
       "      <td>NaN</td>\n",
       "      <td>Dn Laoghaire-Rathdown</td>\n",
       "      <td>53.29178</td>\n",
       "      <td>-6.25792</td>\n",
       "      <td>Private room</td>\n",
       "      <td>65</td>\n",
       "      <td>3</td>\n",
       "      <td>227</td>\n",
       "      <td>2020-03-06</td>\n",
       "      <td>1.74</td>\n",
       "      <td>3</td>\n",
       "      <td>233</td>\n",
       "      <td>0</td>\n",
       "      <td>0.0</td>\n",
       "    </tr>\n",
       "    <tr>\n",
       "      <th>1</th>\n",
       "      <td>85148</td>\n",
       "      <td>Habitación en Dublín Double room</td>\n",
       "      <td>466111</td>\n",
       "      <td>Don</td>\n",
       "      <td>NaN</td>\n",
       "      <td>South Dublin</td>\n",
       "      <td>53.29885</td>\n",
       "      <td>-6.31850</td>\n",
       "      <td>Private room</td>\n",
       "      <td>30</td>\n",
       "      <td>1</td>\n",
       "      <td>1</td>\n",
       "      <td>2019-05-11</td>\n",
       "      <td>0.03</td>\n",
       "      <td>1</td>\n",
       "      <td>99</td>\n",
       "      <td>0</td>\n",
       "      <td>0.0</td>\n",
       "    </tr>\n",
       "    <tr>\n",
       "      <th>2</th>\n",
       "      <td>85156</td>\n",
       "      <td>Cosy Comfortable Irish Cottage  1 Double Bed</td>\n",
       "      <td>193005</td>\n",
       "      <td>Teresa</td>\n",
       "      <td>NaN</td>\n",
       "      <td>Dn Laoghaire-Rathdown</td>\n",
       "      <td>53.29209</td>\n",
       "      <td>-6.25624</td>\n",
       "      <td>Private room</td>\n",
       "      <td>61</td>\n",
       "      <td>3</td>\n",
       "      <td>182</td>\n",
       "      <td>2020-03-09</td>\n",
       "      <td>1.42</td>\n",
       "      <td>3</td>\n",
       "      <td>323</td>\n",
       "      <td>0</td>\n",
       "      <td>0.0</td>\n",
       "    </tr>\n",
       "    <tr>\n",
       "      <th>3</th>\n",
       "      <td>159889</td>\n",
       "      <td>Friendly Single Room</td>\n",
       "      <td>766611</td>\n",
       "      <td>Margaret</td>\n",
       "      <td>NaN</td>\n",
       "      <td>Dublin City</td>\n",
       "      <td>53.39027</td>\n",
       "      <td>-6.23547</td>\n",
       "      <td>Private room</td>\n",
       "      <td>40</td>\n",
       "      <td>2</td>\n",
       "      <td>316</td>\n",
       "      <td>2021-12-05</td>\n",
       "      <td>2.67</td>\n",
       "      <td>3</td>\n",
       "      <td>324</td>\n",
       "      <td>5</td>\n",
       "      <td>0.0</td>\n",
       "    </tr>\n",
       "    <tr>\n",
       "      <th>4</th>\n",
       "      <td>162809</td>\n",
       "      <td>5.5 miles south of Dublin City :^)</td>\n",
       "      <td>777681</td>\n",
       "      <td>Robert</td>\n",
       "      <td>NaN</td>\n",
       "      <td>Dn Laoghaire-Rathdown</td>\n",
       "      <td>53.28326</td>\n",
       "      <td>-6.19188</td>\n",
       "      <td>Private room</td>\n",
       "      <td>65</td>\n",
       "      <td>1</td>\n",
       "      <td>288</td>\n",
       "      <td>2021-10-19</td>\n",
       "      <td>3.62</td>\n",
       "      <td>2</td>\n",
       "      <td>114</td>\n",
       "      <td>4</td>\n",
       "      <td>0.0</td>\n",
       "    </tr>\n",
       "  </tbody>\n",
       "</table>\n",
       "</div>"
      ],
      "text/plain": [
       "       id                                          name  host_id host_name  \\\n",
       "0   44077           cosy comfortable Irish cottage twin   193005    Teresa   \n",
       "1   85148              Habitación en Dublín Double room   466111       Don   \n",
       "2   85156  Cosy Comfortable Irish Cottage  1 Double Bed   193005    Teresa   \n",
       "3  159889                          Friendly Single Room   766611  Margaret   \n",
       "4  162809            5.5 miles south of Dublin City :^)   777681    Robert   \n",
       "\n",
       "   neighbourhood_group          neighbourhood  latitude  longitude  \\\n",
       "0                  NaN  Dn Laoghaire-Rathdown  53.29178   -6.25792   \n",
       "1                  NaN           South Dublin  53.29885   -6.31850   \n",
       "2                  NaN  Dn Laoghaire-Rathdown  53.29209   -6.25624   \n",
       "3                  NaN            Dublin City  53.39027   -6.23547   \n",
       "4                  NaN  Dn Laoghaire-Rathdown  53.28326   -6.19188   \n",
       "\n",
       "      room_type  price  minimum_nights  number_of_reviews last_review  \\\n",
       "0  Private room     65               3                227  2020-03-06   \n",
       "1  Private room     30               1                  1  2019-05-11   \n",
       "2  Private room     61               3                182  2020-03-09   \n",
       "3  Private room     40               2                316  2021-12-05   \n",
       "4  Private room     65               1                288  2021-10-19   \n",
       "\n",
       "   reviews_per_month  calculated_host_listings_count  availability_365  \\\n",
       "0               1.74                               3               233   \n",
       "1               0.03                               1                99   \n",
       "2               1.42                               3               323   \n",
       "3               2.67                               3               324   \n",
       "4               3.62                               2               114   \n",
       "\n",
       "   number_of_reviews_ltm  license  \n",
       "0                      0      0.0  \n",
       "1                      0      0.0  \n",
       "2                      0      0.0  \n",
       "3                      5      0.0  \n",
       "4                      4      0.0  "
      ]
     },
     "execution_count": 7,
     "metadata": {},
     "output_type": "execute_result"
    }
   ],
   "source": [
    "#Replacing all NaN values with 0\n",
    "listing.fillna({'license':0}, inplace=True)\n",
    "listing.fillna({'description':0}, inplace=True)\n",
    "listing.fillna({'reviews_per_month':0}, inplace=True)\n",
    "listing.head()"
   ]
  },
  {
   "cell_type": "code",
   "execution_count": 8,
   "id": "6d472bee",
   "metadata": {},
   "outputs": [
    {
     "data": {
      "text/plain": [
       "id                                   0\n",
       "name                                 1\n",
       "host_id                              0\n",
       "host_name                            9\n",
       "neighbourhood_group               6977\n",
       "neighbourhood                        0\n",
       "latitude                             0\n",
       "longitude                            0\n",
       "room_type                            0\n",
       "price                                0\n",
       "minimum_nights                       0\n",
       "number_of_reviews                    0\n",
       "last_review                       1450\n",
       "reviews_per_month                    0\n",
       "calculated_host_listings_count       0\n",
       "availability_365                     0\n",
       "number_of_reviews_ltm                0\n",
       "license                              0\n",
       "dtype: int64"
      ]
     },
     "execution_count": 8,
     "metadata": {},
     "output_type": "execute_result"
    }
   ],
   "source": [
    "listing.isnull().sum()"
   ]
  },
  {
   "cell_type": "code",
   "execution_count": null,
   "id": "078f3803",
   "metadata": {},
   "outputs": [],
   "source": [
    "# Drop the data that are not of interest and/or causing privacy issues\n",
    "listing.drop(['id','name','host_name','last_review'], axis=1, inplace=True)\n",
    "# Visualize the first 5 rows\n",
    "listing.head()"
   ]
  },
  {
   "cell_type": "code",
   "execution_count": null,
   "id": "8ddb3751",
   "metadata": {},
   "outputs": [],
   "source": [
    "# Set up color blind friendly color palette\n",
    "# The palette with grey:\n",
    "cbPalette = [\"#999999\", \"#E69F00\", \"#56B4E9\", \"#009E73\", \"#F0E442\", \"#0072B2\", \"#D55E00\", \"#CC79A7\"]\n",
    "# The palette with black:\n",
    "cbbPalette = [\"#000000\", \"#E69F00\", \"#56B4E9\", \"#009E73\", \"#F0E442\", \"#0072B2\", \"#D55E00\", \"#CC79A7\"]\n",
    "\n",
    "# sns.palplot(sns.color_palette(cbPalette))\n",
    "# sns.palplot(sns.color_palette(cbbPalette))\n",
    "\n",
    "sns.set_palette(cbPalette)\n",
    "#sns.set_palette(cbbPalette)"
   ]
  },
  {
   "cell_type": "code",
   "execution_count": 9,
   "id": "c324e794",
   "metadata": {},
   "outputs": [
    {
     "data": {
      "text/plain": [
       "<matplotlib.pyplot._IoffContext at 0x7f1ff98a38b0>"
      ]
     },
     "execution_count": 9,
     "metadata": {},
     "output_type": "execute_result"
    },
    {
     "data": {
      "image/png": "[encoded data removed]",
      "text/plain": [
       "<Figure size 432x288 with 1 Axes>"
      ]
     },
     "metadata": {
      "needs_background": "light"
     },
     "output_type": "display_data"
    }
   ],
   "source": [
    "title = 'Properties per Neighbourhood'\n",
    "sns.countplot(listing['neighbourhood'])\n",
    "plt.title(title)\n",
    "plt.ioff()"
   ]
  },
  {
   "cell_type": "code",
   "execution_count": 10,
   "id": "a7ac045c",
   "metadata": {},
   "outputs": [
    {
     "data": {
      "text/plain": [
       "<matplotlib.pyplot._IoffContext at 0x7f1ff98a3280>"
      ]
     },
     "execution_count": 10,
     "metadata": {},
     "output_type": "execute_result"
    },
    {
     "data": {
      "image/png": "[encoded data removed]",
      "text/plain": [
       "<Figure size 432x288 with 1 Axes>"
      ]
     },
     "metadata": {
      "needs_background": "light"
     },
     "output_type": "display_data"
    }
   ],
   "source": [
    "title = 'Properties per Room Type'\n",
    "sns.countplot(listing['room_type'])\n",
    "plt.title(title)\n",
    "plt.ioff()"
   ]
  },
  {
   "cell_type": "code",
   "execution_count": 11,
   "id": "cfd9f393",
   "metadata": {},
   "outputs": [
    {
     "data": {
      "text/plain": [
       "<matplotlib.pyplot._IoffContext at 0x7f20744372e0>"
      ]
     },
     "execution_count": 11,
     "metadata": {},
     "output_type": "execute_result"
    },
    {
     "data": {
      "image/png": "[encoded data removed]",
      "text/plain": [
       "<Figure size 1440x720 with 2 Axes>"
      ]
     },
     "metadata": {
      "needs_background": "light"
     },
     "output_type": "display_data"
    }
   ],
   "source": [
    "plt.figure(figsize=(20,10))\n",
    "title = 'Correlation matrix of numerical variables'\n",
    "sns.heatmap(listing.corr(), square=True, cmap='RdYlGn')\n",
    "plt.title(title)\n",
    "plt.ioff()"
   ]
  },
  {
   "cell_type": "code",
   "execution_count": 14,
   "id": "961563e0",
   "metadata": {},
   "outputs": [],
   "source": [
    "#Find correlations\n",
    "corr = listing.corr()"
   ]
  },
  {
   "cell_type": "markdown",
   "id": "c8ce0b84",
   "metadata": {},
   "source": [
    "Strong Correlations were found between:\n",
    "- the number_of_reviews_ltm and reviews_per_month columns (0.75)\n",
    "- the number_of_reviews and reviews_per_month"
   ]
  },
  {
   "cell_type": "code",
   "execution_count": 15,
   "id": "066328d6",
   "metadata": {},
   "outputs": [
    {
     "data": {
      "text/html": [
       "<style type=\"text/css\">\n",
       "#T_5efc0_row0_col0, #T_5efc0_row1_col1, #T_5efc0_row3_col3, #T_5efc0_row4_col4, #T_5efc0_row5_col5, #T_5efc0_row6_col6, #T_5efc0_row7_col7, #T_5efc0_row8_col8, #T_5efc0_row9_col9, #T_5efc0_row10_col10, #T_5efc0_row11_col11 {\n",
       "  background-color: #b40426;\n",
       "  color: #f1f1f1;\n",
       "}\n",
       "#T_5efc0_row0_col1 {\n",
       "  background-color: #f1ccb8;\n",
       "  color: #000000;\n",
       "}\n",
       "#T_5efc0_row0_col2, #T_5efc0_row0_col12, #T_5efc0_row1_col2, #T_5efc0_row1_col12, #T_5efc0_row2_col0, #T_5efc0_row2_col1, #T_5efc0_row2_col2, #T_5efc0_row2_col3, #T_5efc0_row2_col4, #T_5efc0_row2_col5, #T_5efc0_row2_col6, #T_5efc0_row2_col7, #T_5efc0_row2_col8, #T_5efc0_row2_col9, #T_5efc0_row2_col10, #T_5efc0_row2_col11, #T_5efc0_row2_col12, #T_5efc0_row3_col2, #T_5efc0_row3_col12, #T_5efc0_row4_col2, #T_5efc0_row4_col12, #T_5efc0_row5_col2, #T_5efc0_row5_col12, #T_5efc0_row6_col2, #T_5efc0_row6_col12, #T_5efc0_row7_col2, #T_5efc0_row7_col12, #T_5efc0_row8_col2, #T_5efc0_row8_col12, #T_5efc0_row9_col2, #T_5efc0_row9_col12, #T_5efc0_row10_col2, #T_5efc0_row10_col12, #T_5efc0_row11_col2, #T_5efc0_row11_col12, #T_5efc0_row12_col0, #T_5efc0_row12_col1, #T_5efc0_row12_col2, #T_5efc0_row12_col3, #T_5efc0_row12_col4, #T_5efc0_row12_col5, #T_5efc0_row12_col6, #T_5efc0_row12_col7, #T_5efc0_row12_col8, #T_5efc0_row12_col9, #T_5efc0_row12_col10, #T_5efc0_row12_col11, #T_5efc0_row12_col12 {\n",
       "  background-color: #000000;\n",
       "  color: #f1f1f1;\n",
       "}\n",
       "#T_5efc0_row0_col3, #T_5efc0_row5_col6, #T_5efc0_row10_col3 {\n",
       "  background-color: #455cce;\n",
       "  color: #f1f1f1;\n",
       "}\n",
       "#T_5efc0_row0_col4, #T_5efc0_row8_col9, #T_5efc0_row10_col5 {\n",
       "  background-color: #4055c8;\n",
       "  color: #f1f1f1;\n",
       "}\n",
       "#T_5efc0_row0_col5, #T_5efc0_row3_col10, #T_5efc0_row6_col8 {\n",
       "  background-color: #3f53c6;\n",
       "  color: #f1f1f1;\n",
       "}\n",
       "#T_5efc0_row0_col6, #T_5efc0_row5_col1 {\n",
       "  background-color: #6687ed;\n",
       "  color: #f1f1f1;\n",
       "}\n",
       "#T_5efc0_row0_col7, #T_5efc0_row3_col5, #T_5efc0_row4_col5, #T_5efc0_row4_col9, #T_5efc0_row5_col3, #T_5efc0_row5_col10, #T_5efc0_row6_col11, #T_5efc0_row7_col0, #T_5efc0_row7_col1, #T_5efc0_row7_col5, #T_5efc0_row7_col6, #T_5efc0_row7_col9, #T_5efc0_row8_col5, #T_5efc0_row8_col6, #T_5efc0_row9_col4, #T_5efc0_row9_col8, #T_5efc0_row11_col6 {\n",
       "  background-color: #3b4cc0;\n",
       "  color: #f1f1f1;\n",
       "}\n",
       "#T_5efc0_row0_col8, #T_5efc0_row7_col10 {\n",
       "  background-color: #5875e1;\n",
       "  color: #f1f1f1;\n",
       "}\n",
       "#T_5efc0_row0_col9 {\n",
       "  background-color: #b7cff9;\n",
       "  color: #000000;\n",
       "}\n",
       "#T_5efc0_row0_col10, #T_5efc0_row8_col0 {\n",
       "  background-color: #92b4fe;\n",
       "  color: #000000;\n",
       "}\n",
       "#T_5efc0_row0_col11 {\n",
       "  background-color: #5d7ce6;\n",
       "  color: #f1f1f1;\n",
       "}\n",
       "#T_5efc0_row1_col0 {\n",
       "  background-color: #f6bea4;\n",
       "  color: #000000;\n",
       "}\n",
       "#T_5efc0_row1_col3, #T_5efc0_row4_col8 {\n",
       "  background-color: #4c66d6;\n",
       "  color: #f1f1f1;\n",
       "}\n",
       "#T_5efc0_row1_col4, #T_5efc0_row6_col4 {\n",
       "  background-color: #485fd1;\n",
       "  color: #f1f1f1;\n",
       "}\n",
       "#T_5efc0_row1_col5 {\n",
       "  background-color: #4358cb;\n",
       "  color: #f1f1f1;\n",
       "}\n",
       "#T_5efc0_row1_col6, #T_5efc0_row4_col1 {\n",
       "  background-color: #5673e0;\n",
       "  color: #f1f1f1;\n",
       "}\n",
       "#T_5efc0_row1_col7 {\n",
       "  background-color: #6282ea;\n",
       "  color: #f1f1f1;\n",
       "}\n",
       "#T_5efc0_row1_col8 {\n",
       "  background-color: #6180e9;\n",
       "  color: #f1f1f1;\n",
       "}\n",
       "#T_5efc0_row1_col9 {\n",
       "  background-color: #8fb1fe;\n",
       "  color: #000000;\n",
       "}\n",
       "#T_5efc0_row1_col10, #T_5efc0_row4_col7, #T_5efc0_row10_col11 {\n",
       "  background-color: #8badfd;\n",
       "  color: #000000;\n",
       "}\n",
       "#T_5efc0_row1_col11, #T_5efc0_row3_col4, #T_5efc0_row3_col8 {\n",
       "  background-color: #5e7de7;\n",
       "  color: #f1f1f1;\n",
       "}\n",
       "#T_5efc0_row3_col0 {\n",
       "  background-color: #8db0fe;\n",
       "  color: #000000;\n",
       "}\n",
       "#T_5efc0_row3_col1, #T_5efc0_row6_col1, #T_5efc0_row9_col7 {\n",
       "  background-color: #6f92f3;\n",
       "  color: #f1f1f1;\n",
       "}\n",
       "#T_5efc0_row3_col6, #T_5efc0_row4_col3, #T_5efc0_row11_col3 {\n",
       "  background-color: #4a63d3;\n",
       "  color: #f1f1f1;\n",
       "}\n",
       "#T_5efc0_row3_col7, #T_5efc0_row9_col1, #T_5efc0_row11_col0 {\n",
       "  background-color: #9bbcff;\n",
       "  color: #000000;\n",
       "}\n",
       "#T_5efc0_row3_col9, #T_5efc0_row3_col11, #T_5efc0_row8_col4 {\n",
       "  background-color: #516ddb;\n",
       "  color: #f1f1f1;\n",
       "}\n",
       "#T_5efc0_row4_col0 {\n",
       "  background-color: #779af7;\n",
       "  color: #f1f1f1;\n",
       "}\n",
       "#T_5efc0_row4_col6 {\n",
       "  background-color: #3d50c3;\n",
       "  color: #f1f1f1;\n",
       "}\n",
       "#T_5efc0_row4_col10, #T_5efc0_row6_col5, #T_5efc0_row9_col3, #T_5efc0_row9_col5, #T_5efc0_row9_col11, #T_5efc0_row11_col5 {\n",
       "  background-color: #3c4ec2;\n",
       "  color: #f1f1f1;\n",
       "}\n",
       "#T_5efc0_row4_col11, #T_5efc0_row5_col4 {\n",
       "  background-color: #4e68d8;\n",
       "  color: #f1f1f1;\n",
       "}\n",
       "#T_5efc0_row5_col0 {\n",
       "  background-color: #88abfd;\n",
       "  color: #000000;\n",
       "}\n",
       "#T_5efc0_row5_col7 {\n",
       "  background-color: #84a7fc;\n",
       "  color: #f1f1f1;\n",
       "}\n",
       "#T_5efc0_row5_col8, #T_5efc0_row11_col9 {\n",
       "  background-color: #4961d2;\n",
       "  color: #f1f1f1;\n",
       "}\n",
       "#T_5efc0_row5_col9, #T_5efc0_row8_col3 {\n",
       "  background-color: #506bda;\n",
       "  color: #f1f1f1;\n",
       "}\n",
       "#T_5efc0_row5_col11 {\n",
       "  background-color: #445acc;\n",
       "  color: #f1f1f1;\n",
       "}\n",
       "#T_5efc0_row6_col0 {\n",
       "  background-color: #a2c1ff;\n",
       "  color: #000000;\n",
       "}\n",
       "#T_5efc0_row6_col3 {\n",
       "  background-color: #4257c9;\n",
       "  color: #f1f1f1;\n",
       "}\n",
       "#T_5efc0_row6_col7 {\n",
       "  background-color: #7b9ff9;\n",
       "  color: #f1f1f1;\n",
       "}\n",
       "#T_5efc0_row6_col9 {\n",
       "  background-color: #b9d0f9;\n",
       "  color: #000000;\n",
       "}\n",
       "#T_5efc0_row6_col10, #T_5efc0_row8_col1 {\n",
       "  background-color: #7597f6;\n",
       "  color: #f1f1f1;\n",
       "}\n",
       "#T_5efc0_row7_col3 {\n",
       "  background-color: #5470de;\n",
       "  color: #f1f1f1;\n",
       "}\n",
       "#T_5efc0_row7_col4, #T_5efc0_row10_col4 {\n",
       "  background-color: #5572df;\n",
       "  color: #f1f1f1;\n",
       "}\n",
       "#T_5efc0_row7_col8 {\n",
       "  background-color: #efcfbf;\n",
       "  color: #000000;\n",
       "}\n",
       "#T_5efc0_row7_col11 {\n",
       "  background-color: #c7d7f0;\n",
       "  color: #000000;\n",
       "}\n",
       "#T_5efc0_row8_col7 {\n",
       "  background-color: #f7ba9f;\n",
       "  color: #000000;\n",
       "}\n",
       "#T_5efc0_row8_col10 {\n",
       "  background-color: #6384eb;\n",
       "  color: #f1f1f1;\n",
       "}\n",
       "#T_5efc0_row8_col11 {\n",
       "  background-color: #f39577;\n",
       "  color: #000000;\n",
       "}\n",
       "#T_5efc0_row9_col0 {\n",
       "  background-color: #d7dce3;\n",
       "  color: #000000;\n",
       "}\n",
       "#T_5efc0_row9_col6 {\n",
       "  background-color: #b1cbfc;\n",
       "  color: #000000;\n",
       "}\n",
       "#T_5efc0_row9_col10 {\n",
       "  background-color: #bfd3f6;\n",
       "  color: #000000;\n",
       "}\n",
       "#T_5efc0_row10_col0 {\n",
       "  background-color: #ccd9ed;\n",
       "  color: #000000;\n",
       "}\n",
       "#T_5efc0_row10_col1 {\n",
       "  background-color: #adc9fd;\n",
       "  color: #000000;\n",
       "}\n",
       "#T_5efc0_row10_col6 {\n",
       "  background-color: #82a6fb;\n",
       "  color: #f1f1f1;\n",
       "}\n",
       "#T_5efc0_row10_col7 {\n",
       "  background-color: #a3c2fe;\n",
       "  color: #000000;\n",
       "}\n",
       "#T_5efc0_row10_col8 {\n",
       "  background-color: #7699f6;\n",
       "  color: #f1f1f1;\n",
       "}\n",
       "#T_5efc0_row10_col9 {\n",
       "  background-color: #cfdaea;\n",
       "  color: #000000;\n",
       "}\n",
       "#T_5efc0_row11_col1 {\n",
       "  background-color: #799cf8;\n",
       "  color: #f1f1f1;\n",
       "}\n",
       "#T_5efc0_row11_col4 {\n",
       "  background-color: #5a78e4;\n",
       "  color: #f1f1f1;\n",
       "}\n",
       "#T_5efc0_row11_col7 {\n",
       "  background-color: #e6d7cf;\n",
       "  color: #000000;\n",
       "}\n",
       "#T_5efc0_row11_col8 {\n",
       "  background-color: #f29274;\n",
       "  color: #f1f1f1;\n",
       "}\n",
       "#T_5efc0_row11_col10 {\n",
       "  background-color: #7ea1fa;\n",
       "  color: #f1f1f1;\n",
       "}\n",
       "</style>\n",
       "<table id=\"T_5efc0\">\n",
       "  <thead>\n",
       "    <tr>\n",
       "      <th class=\"blank level0\" >&nbsp;</th>\n",
       "      <th id=\"T_5efc0_level0_col0\" class=\"col_heading level0 col0\" >id</th>\n",
       "      <th id=\"T_5efc0_level0_col1\" class=\"col_heading level0 col1\" >host_id</th>\n",
       "      <th id=\"T_5efc0_level0_col2\" class=\"col_heading level0 col2\" >neighbourhood_group</th>\n",
       "      <th id=\"T_5efc0_level0_col3\" class=\"col_heading level0 col3\" >latitude</th>\n",
       "      <th id=\"T_5efc0_level0_col4\" class=\"col_heading level0 col4\" >longitude</th>\n",
       "      <th id=\"T_5efc0_level0_col5\" class=\"col_heading level0 col5\" >price</th>\n",
       "      <th id=\"T_5efc0_level0_col6\" class=\"col_heading level0 col6\" >minimum_nights</th>\n",
       "      <th id=\"T_5efc0_level0_col7\" class=\"col_heading level0 col7\" >number_of_reviews</th>\n",
       "      <th id=\"T_5efc0_level0_col8\" class=\"col_heading level0 col8\" >reviews_per_month</th>\n",
       "      <th id=\"T_5efc0_level0_col9\" class=\"col_heading level0 col9\" >calculated_host_listings_count</th>\n",
       "      <th id=\"T_5efc0_level0_col10\" class=\"col_heading level0 col10\" >availability_365</th>\n",
       "      <th id=\"T_5efc0_level0_col11\" class=\"col_heading level0 col11\" >number_of_reviews_ltm</th>\n",
       "      <th id=\"T_5efc0_level0_col12\" class=\"col_heading level0 col12\" >license</th>\n",
       "    </tr>\n",
       "  </thead>\n",
       "  <tbody>\n",
       "    <tr>\n",
       "      <th id=\"T_5efc0_level0_row0\" class=\"row_heading level0 row0\" >id</th>\n",
       "      <td id=\"T_5efc0_row0_col0\" class=\"data row0 col0\" >1.000000</td>\n",
       "      <td id=\"T_5efc0_row0_col1\" class=\"data row0 col1\" >0.539655</td>\n",
       "      <td id=\"T_5efc0_row0_col2\" class=\"data row0 col2\" >nan</td>\n",
       "      <td id=\"T_5efc0_row0_col3\" class=\"data row0 col3\" >0.029801</td>\n",
       "      <td id=\"T_5efc0_row0_col4\" class=\"data row0 col4\" >-0.054949</td>\n",
       "      <td id=\"T_5efc0_row0_col5\" class=\"data row0 col5\" >0.010037</td>\n",
       "      <td id=\"T_5efc0_row0_col6\" class=\"data row0 col6\" >0.105664</td>\n",
       "      <td id=\"T_5efc0_row0_col7\" class=\"data row0 col7\" >-0.299336</td>\n",
       "      <td id=\"T_5efc0_row0_col8\" class=\"data row0 col8\" >0.045397</td>\n",
       "      <td id=\"T_5efc0_row0_col9\" class=\"data row0 col9\" >0.320407</td>\n",
       "      <td id=\"T_5efc0_row0_col10\" class=\"data row0 col10\" >0.271723</td>\n",
       "      <td id=\"T_5efc0_row0_col11\" class=\"data row0 col11\" >0.080743</td>\n",
       "      <td id=\"T_5efc0_row0_col12\" class=\"data row0 col12\" >nan</td>\n",
       "    </tr>\n",
       "    <tr>\n",
       "      <th id=\"T_5efc0_level0_row1\" class=\"row_heading level0 row1\" >host_id</th>\n",
       "      <td id=\"T_5efc0_row1_col0\" class=\"data row1 col0\" >0.539655</td>\n",
       "      <td id=\"T_5efc0_row1_col1\" class=\"data row1 col1\" >1.000000</td>\n",
       "      <td id=\"T_5efc0_row1_col2\" class=\"data row1 col2\" >nan</td>\n",
       "      <td id=\"T_5efc0_row1_col3\" class=\"data row1 col3\" >0.052056</td>\n",
       "      <td id=\"T_5efc0_row1_col4\" class=\"data row1 col4\" >-0.029563</td>\n",
       "      <td id=\"T_5efc0_row1_col5\" class=\"data row1 col5\" >0.021418</td>\n",
       "      <td id=\"T_5efc0_row1_col6\" class=\"data row1 col6\" >0.054179</td>\n",
       "      <td id=\"T_5efc0_row1_col7\" class=\"data row1 col7\" >-0.134993</td>\n",
       "      <td id=\"T_5efc0_row1_col8\" class=\"data row1 col8\" >0.072337</td>\n",
       "      <td id=\"T_5efc0_row1_col9\" class=\"data row1 col9\" >0.195135</td>\n",
       "      <td id=\"T_5efc0_row1_col10\" class=\"data row1 col10\" >0.252859</td>\n",
       "      <td id=\"T_5efc0_row1_col11\" class=\"data row1 col11\" >0.082361</td>\n",
       "      <td id=\"T_5efc0_row1_col12\" class=\"data row1 col12\" >nan</td>\n",
       "    </tr>\n",
       "    <tr>\n",
       "      <th id=\"T_5efc0_level0_row2\" class=\"row_heading level0 row2\" >neighbourhood_group</th>\n",
       "      <td id=\"T_5efc0_row2_col0\" class=\"data row2 col0\" >nan</td>\n",
       "      <td id=\"T_5efc0_row2_col1\" class=\"data row2 col1\" >nan</td>\n",
       "      <td id=\"T_5efc0_row2_col2\" class=\"data row2 col2\" >nan</td>\n",
       "      <td id=\"T_5efc0_row2_col3\" class=\"data row2 col3\" >nan</td>\n",
       "      <td id=\"T_5efc0_row2_col4\" class=\"data row2 col4\" >nan</td>\n",
       "      <td id=\"T_5efc0_row2_col5\" class=\"data row2 col5\" >nan</td>\n",
       "      <td id=\"T_5efc0_row2_col6\" class=\"data row2 col6\" >nan</td>\n",
       "      <td id=\"T_5efc0_row2_col7\" class=\"data row2 col7\" >nan</td>\n",
       "      <td id=\"T_5efc0_row2_col8\" class=\"data row2 col8\" >nan</td>\n",
       "      <td id=\"T_5efc0_row2_col9\" class=\"data row2 col9\" >nan</td>\n",
       "      <td id=\"T_5efc0_row2_col10\" class=\"data row2 col10\" >nan</td>\n",
       "      <td id=\"T_5efc0_row2_col11\" class=\"data row2 col11\" >nan</td>\n",
       "      <td id=\"T_5efc0_row2_col12\" class=\"data row2 col12\" >nan</td>\n",
       "    </tr>\n",
       "    <tr>\n",
       "      <th id=\"T_5efc0_level0_row3\" class=\"row_heading level0 row3\" >latitude</th>\n",
       "      <td id=\"T_5efc0_row3_col0\" class=\"data row3 col0\" >0.029801</td>\n",
       "      <td id=\"T_5efc0_row3_col1\" class=\"data row3 col1\" >0.052056</td>\n",
       "      <td id=\"T_5efc0_row3_col2\" class=\"data row3 col2\" >nan</td>\n",
       "      <td id=\"T_5efc0_row3_col3\" class=\"data row3 col3\" >1.000000</td>\n",
       "      <td id=\"T_5efc0_row3_col4\" class=\"data row3 col4\" >0.045786</td>\n",
       "      <td id=\"T_5efc0_row3_col5\" class=\"data row3 col5\" >-0.007669</td>\n",
       "      <td id=\"T_5efc0_row3_col6\" class=\"data row3 col6\" >0.016385</td>\n",
       "      <td id=\"T_5efc0_row3_col7\" class=\"data row3 col7\" >0.077781</td>\n",
       "      <td id=\"T_5efc0_row3_col8\" class=\"data row3 col8\" >0.065755</td>\n",
       "      <td id=\"T_5efc0_row3_col9\" class=\"data row3 col9\" >-0.001351</td>\n",
       "      <td id=\"T_5efc0_row3_col10\" class=\"data row3 col10\" >0.029604</td>\n",
       "      <td id=\"T_5efc0_row3_col11\" class=\"data row3 col11\" >0.043933</td>\n",
       "      <td id=\"T_5efc0_row3_col12\" class=\"data row3 col12\" >nan</td>\n",
       "    </tr>\n",
       "    <tr>\n",
       "      <th id=\"T_5efc0_level0_row4\" class=\"row_heading level0 row4\" >longitude</th>\n",
       "      <td id=\"T_5efc0_row4_col0\" class=\"data row4 col0\" >-0.054949</td>\n",
       "      <td id=\"T_5efc0_row4_col1\" class=\"data row4 col1\" >-0.029563</td>\n",
       "      <td id=\"T_5efc0_row4_col2\" class=\"data row4 col2\" >nan</td>\n",
       "      <td id=\"T_5efc0_row4_col3\" class=\"data row4 col3\" >0.045786</td>\n",
       "      <td id=\"T_5efc0_row4_col4\" class=\"data row4 col4\" >1.000000</td>\n",
       "      <td id=\"T_5efc0_row4_col5\" class=\"data row4 col5\" >-0.009332</td>\n",
       "      <td id=\"T_5efc0_row4_col6\" class=\"data row4 col6\" >-0.028415</td>\n",
       "      <td id=\"T_5efc0_row4_col7\" class=\"data row4 col7\" >0.016047</td>\n",
       "      <td id=\"T_5efc0_row4_col8\" class=\"data row4 col8\" >0.005845</td>\n",
       "      <td id=\"T_5efc0_row4_col9\" class=\"data row4 col9\" >-0.078082</td>\n",
       "      <td id=\"T_5efc0_row4_col10\" class=\"data row4 col10\" >0.017012</td>\n",
       "      <td id=\"T_5efc0_row4_col11\" class=\"data row4 col11\" >0.032330</td>\n",
       "      <td id=\"T_5efc0_row4_col12\" class=\"data row4 col12\" >nan</td>\n",
       "    </tr>\n",
       "    <tr>\n",
       "      <th id=\"T_5efc0_level0_row5\" class=\"row_heading level0 row5\" >price</th>\n",
       "      <td id=\"T_5efc0_row5_col0\" class=\"data row5 col0\" >0.010037</td>\n",
       "      <td id=\"T_5efc0_row5_col1\" class=\"data row5 col1\" >0.021418</td>\n",
       "      <td id=\"T_5efc0_row5_col2\" class=\"data row5 col2\" >nan</td>\n",
       "      <td id=\"T_5efc0_row5_col3\" class=\"data row5 col3\" >-0.007669</td>\n",
       "      <td id=\"T_5efc0_row5_col4\" class=\"data row5 col4\" >-0.009332</td>\n",
       "      <td id=\"T_5efc0_row5_col5\" class=\"data row5 col5\" >1.000000</td>\n",
       "      <td id=\"T_5efc0_row5_col6\" class=\"data row5 col6\" >-0.001752</td>\n",
       "      <td id=\"T_5efc0_row5_col7\" class=\"data row5 col7\" >-0.006823</td>\n",
       "      <td id=\"T_5efc0_row5_col8\" class=\"data row5 col8\" >-0.005471</td>\n",
       "      <td id=\"T_5efc0_row5_col9\" class=\"data row5 col9\" >-0.001997</td>\n",
       "      <td id=\"T_5efc0_row5_col10\" class=\"data row5 col10\" >0.012670</td>\n",
       "      <td id=\"T_5efc0_row5_col11\" class=\"data row5 col11\" >-0.003552</td>\n",
       "      <td id=\"T_5efc0_row5_col12\" class=\"data row5 col12\" >nan</td>\n",
       "    </tr>\n",
       "    <tr>\n",
       "      <th id=\"T_5efc0_level0_row6\" class=\"row_heading level0 row6\" >minimum_nights</th>\n",
       "      <td id=\"T_5efc0_row6_col0\" class=\"data row6 col0\" >0.105664</td>\n",
       "      <td id=\"T_5efc0_row6_col1\" class=\"data row6 col1\" >0.054179</td>\n",
       "      <td id=\"T_5efc0_row6_col2\" class=\"data row6 col2\" >nan</td>\n",
       "      <td id=\"T_5efc0_row6_col3\" class=\"data row6 col3\" >0.016385</td>\n",
       "      <td id=\"T_5efc0_row6_col4\" class=\"data row6 col4\" >-0.028415</td>\n",
       "      <td id=\"T_5efc0_row6_col5\" class=\"data row6 col5\" >-0.001752</td>\n",
       "      <td id=\"T_5efc0_row6_col6\" class=\"data row6 col6\" >1.000000</td>\n",
       "      <td id=\"T_5efc0_row6_col7\" class=\"data row6 col7\" >-0.037423</td>\n",
       "      <td id=\"T_5efc0_row6_col8\" class=\"data row6 col8\" >-0.040098</td>\n",
       "      <td id=\"T_5efc0_row6_col9\" class=\"data row6 col9\" >0.327427</td>\n",
       "      <td id=\"T_5efc0_row6_col10\" class=\"data row6 col10\" >0.191020</td>\n",
       "      <td id=\"T_5efc0_row6_col11\" class=\"data row6 col11\" >-0.036398</td>\n",
       "      <td id=\"T_5efc0_row6_col12\" class=\"data row6 col12\" >nan</td>\n",
       "    </tr>\n",
       "    <tr>\n",
       "      <th id=\"T_5efc0_level0_row7\" class=\"row_heading level0 row7\" >number_of_reviews</th>\n",
       "      <td id=\"T_5efc0_row7_col0\" class=\"data row7 col0\" >-0.299336</td>\n",
       "      <td id=\"T_5efc0_row7_col1\" class=\"data row7 col1\" >-0.134993</td>\n",
       "      <td id=\"T_5efc0_row7_col2\" class=\"data row7 col2\" >nan</td>\n",
       "      <td id=\"T_5efc0_row7_col3\" class=\"data row7 col3\" >0.077781</td>\n",
       "      <td id=\"T_5efc0_row7_col4\" class=\"data row7 col4\" >0.016047</td>\n",
       "      <td id=\"T_5efc0_row7_col5\" class=\"data row7 col5\" >-0.006823</td>\n",
       "      <td id=\"T_5efc0_row7_col6\" class=\"data row7 col6\" >-0.037423</td>\n",
       "      <td id=\"T_5efc0_row7_col7\" class=\"data row7 col7\" >1.000000</td>\n",
       "      <td id=\"T_5efc0_row7_col8\" class=\"data row7 col8\" >0.557266</td>\n",
       "      <td id=\"T_5efc0_row7_col9\" class=\"data row7 col9\" >-0.082199</td>\n",
       "      <td id=\"T_5efc0_row7_col10\" class=\"data row7 col10\" >0.108348</td>\n",
       "      <td id=\"T_5efc0_row7_col11\" class=\"data row7 col11\" >0.401044</td>\n",
       "      <td id=\"T_5efc0_row7_col12\" class=\"data row7 col12\" >nan</td>\n",
       "    </tr>\n",
       "    <tr>\n",
       "      <th id=\"T_5efc0_level0_row8\" class=\"row_heading level0 row8\" >reviews_per_month</th>\n",
       "      <td id=\"T_5efc0_row8_col0\" class=\"data row8 col0\" >0.045397</td>\n",
       "      <td id=\"T_5efc0_row8_col1\" class=\"data row8 col1\" >0.072337</td>\n",
       "      <td id=\"T_5efc0_row8_col2\" class=\"data row8 col2\" >nan</td>\n",
       "      <td id=\"T_5efc0_row8_col3\" class=\"data row8 col3\" >0.065755</td>\n",
       "      <td id=\"T_5efc0_row8_col4\" class=\"data row8 col4\" >0.005845</td>\n",
       "      <td id=\"T_5efc0_row8_col5\" class=\"data row8 col5\" >-0.005471</td>\n",
       "      <td id=\"T_5efc0_row8_col6\" class=\"data row8 col6\" >-0.040098</td>\n",
       "      <td id=\"T_5efc0_row8_col7\" class=\"data row8 col7\" >0.557266</td>\n",
       "      <td id=\"T_5efc0_row8_col8\" class=\"data row8 col8\" >1.000000</td>\n",
       "      <td id=\"T_5efc0_row8_col9\" class=\"data row8 col9\" >-0.056838</td>\n",
       "      <td id=\"T_5efc0_row8_col10\" class=\"data row8 col10\" >0.140377</td>\n",
       "      <td id=\"T_5efc0_row8_col11\" class=\"data row8 col11\" >0.753012</td>\n",
       "      <td id=\"T_5efc0_row8_col12\" class=\"data row8 col12\" >nan</td>\n",
       "    </tr>\n",
       "    <tr>\n",
       "      <th id=\"T_5efc0_level0_row9\" class=\"row_heading level0 row9\" >calculated_host_listings_count</th>\n",
       "      <td id=\"T_5efc0_row9_col0\" class=\"data row9 col0\" >0.320407</td>\n",
       "      <td id=\"T_5efc0_row9_col1\" class=\"data row9 col1\" >0.195135</td>\n",
       "      <td id=\"T_5efc0_row9_col2\" class=\"data row9 col2\" >nan</td>\n",
       "      <td id=\"T_5efc0_row9_col3\" class=\"data row9 col3\" >-0.001351</td>\n",
       "      <td id=\"T_5efc0_row9_col4\" class=\"data row9 col4\" >-0.078082</td>\n",
       "      <td id=\"T_5efc0_row9_col5\" class=\"data row9 col5\" >-0.001997</td>\n",
       "      <td id=\"T_5efc0_row9_col6\" class=\"data row9 col6\" >0.327427</td>\n",
       "      <td id=\"T_5efc0_row9_col7\" class=\"data row9 col7\" >-0.082199</td>\n",
       "      <td id=\"T_5efc0_row9_col8\" class=\"data row9 col8\" >-0.056838</td>\n",
       "      <td id=\"T_5efc0_row9_col9\" class=\"data row9 col9\" >1.000000</td>\n",
       "      <td id=\"T_5efc0_row9_col10\" class=\"data row9 col10\" >0.404891</td>\n",
       "      <td id=\"T_5efc0_row9_col11\" class=\"data row9 col11\" >-0.031182</td>\n",
       "      <td id=\"T_5efc0_row9_col12\" class=\"data row9 col12\" >nan</td>\n",
       "    </tr>\n",
       "    <tr>\n",
       "      <th id=\"T_5efc0_level0_row10\" class=\"row_heading level0 row10\" >availability_365</th>\n",
       "      <td id=\"T_5efc0_row10_col0\" class=\"data row10 col0\" >0.271723</td>\n",
       "      <td id=\"T_5efc0_row10_col1\" class=\"data row10 col1\" >0.252859</td>\n",
       "      <td id=\"T_5efc0_row10_col2\" class=\"data row10 col2\" >nan</td>\n",
       "      <td id=\"T_5efc0_row10_col3\" class=\"data row10 col3\" >0.029604</td>\n",
       "      <td id=\"T_5efc0_row10_col4\" class=\"data row10 col4\" >0.017012</td>\n",
       "      <td id=\"T_5efc0_row10_col5\" class=\"data row10 col5\" >0.012670</td>\n",
       "      <td id=\"T_5efc0_row10_col6\" class=\"data row10 col6\" >0.191020</td>\n",
       "      <td id=\"T_5efc0_row10_col7\" class=\"data row10 col7\" >0.108348</td>\n",
       "      <td id=\"T_5efc0_row10_col8\" class=\"data row10 col8\" >0.140377</td>\n",
       "      <td id=\"T_5efc0_row10_col9\" class=\"data row10 col9\" >0.404891</td>\n",
       "      <td id=\"T_5efc0_row10_col10\" class=\"data row10 col10\" >1.000000</td>\n",
       "      <td id=\"T_5efc0_row10_col11\" class=\"data row10 col11\" >0.218454</td>\n",
       "      <td id=\"T_5efc0_row10_col12\" class=\"data row10 col12\" >nan</td>\n",
       "    </tr>\n",
       "    <tr>\n",
       "      <th id=\"T_5efc0_level0_row11\" class=\"row_heading level0 row11\" >number_of_reviews_ltm</th>\n",
       "      <td id=\"T_5efc0_row11_col0\" class=\"data row11 col0\" >0.080743</td>\n",
       "      <td id=\"T_5efc0_row11_col1\" class=\"data row11 col1\" >0.082361</td>\n",
       "      <td id=\"T_5efc0_row11_col2\" class=\"data row11 col2\" >nan</td>\n",
       "      <td id=\"T_5efc0_row11_col3\" class=\"data row11 col3\" >0.043933</td>\n",
       "      <td id=\"T_5efc0_row11_col4\" class=\"data row11 col4\" >0.032330</td>\n",
       "      <td id=\"T_5efc0_row11_col5\" class=\"data row11 col5\" >-0.003552</td>\n",
       "      <td id=\"T_5efc0_row11_col6\" class=\"data row11 col6\" >-0.036398</td>\n",
       "      <td id=\"T_5efc0_row11_col7\" class=\"data row11 col7\" >0.401044</td>\n",
       "      <td id=\"T_5efc0_row11_col8\" class=\"data row11 col8\" >0.753012</td>\n",
       "      <td id=\"T_5efc0_row11_col9\" class=\"data row11 col9\" >-0.031182</td>\n",
       "      <td id=\"T_5efc0_row11_col10\" class=\"data row11 col10\" >0.218454</td>\n",
       "      <td id=\"T_5efc0_row11_col11\" class=\"data row11 col11\" >1.000000</td>\n",
       "      <td id=\"T_5efc0_row11_col12\" class=\"data row11 col12\" >nan</td>\n",
       "    </tr>\n",
       "    <tr>\n",
       "      <th id=\"T_5efc0_level0_row12\" class=\"row_heading level0 row12\" >license</th>\n",
       "      <td id=\"T_5efc0_row12_col0\" class=\"data row12 col0\" >nan</td>\n",
       "      <td id=\"T_5efc0_row12_col1\" class=\"data row12 col1\" >nan</td>\n",
       "      <td id=\"T_5efc0_row12_col2\" class=\"data row12 col2\" >nan</td>\n",
       "      <td id=\"T_5efc0_row12_col3\" class=\"data row12 col3\" >nan</td>\n",
       "      <td id=\"T_5efc0_row12_col4\" class=\"data row12 col4\" >nan</td>\n",
       "      <td id=\"T_5efc0_row12_col5\" class=\"data row12 col5\" >nan</td>\n",
       "      <td id=\"T_5efc0_row12_col6\" class=\"data row12 col6\" >nan</td>\n",
       "      <td id=\"T_5efc0_row12_col7\" class=\"data row12 col7\" >nan</td>\n",
       "      <td id=\"T_5efc0_row12_col8\" class=\"data row12 col8\" >nan</td>\n",
       "      <td id=\"T_5efc0_row12_col9\" class=\"data row12 col9\" >nan</td>\n",
       "      <td id=\"T_5efc0_row12_col10\" class=\"data row12 col10\" >nan</td>\n",
       "      <td id=\"T_5efc0_row12_col11\" class=\"data row12 col11\" >nan</td>\n",
       "      <td id=\"T_5efc0_row12_col12\" class=\"data row12 col12\" >nan</td>\n",
       "    </tr>\n",
       "  </tbody>\n",
       "</table>\n"
      ],
      "text/plain": [
       "<pandas.io.formats.style.Styler at 0x7f1ff7603190>"
      ]
     },
     "execution_count": 15,
     "metadata": {},
     "output_type": "execute_result"
    }
   ],
   "source": [
    "corr.style.background_gradient(cmap = 'coolwarm')"
   ]
  },
  {
   "cell_type": "code",
   "execution_count": null,
   "id": "06b0f73b",
   "metadata": {},
   "outputs": [],
   "source": []
  },
  {
   "cell_type": "code",
   "execution_count": 12,
   "id": "9ceb5244",
   "metadata": {},
   "outputs": [
    {
     "data": {
      "text/plain": [
       "<matplotlib.pyplot._IoffContext at 0x7f1ff75dce80>"
      ]
     },
     "execution_count": 12,
     "metadata": {},
     "output_type": "execute_result"
    },
    {
     "data": {
      "image/png": "[encoded data removed]",
      "text/plain": [
       "<Figure size 720x432 with 1 Axes>"
      ]
     },
     "metadata": {
      "needs_background": "light"
     },
     "output_type": "display_data"
    },
    {
     "data": {
      "image/png": "[encoded data removed]",
      "text/plain": [
       "<Figure size 720x432 with 1 Axes>"
      ]
     },
     "metadata": {
      "needs_background": "light"
     },
     "output_type": "display_data"
    }
   ],
   "source": [
    "title = 'Neighbourhood Group Location'\n",
    "plt.figure(figsize=(10,6))\n",
    "sns.scatterplot(listing.longitude,listing.latitude,hue=listing.neighbourhood_group).set_title(title)\n",
    "plt.ioff()\n",
    "\n",
    "title = 'Room type location per Neighbourhood Group'\n",
    "plt.figure(figsize=(10,6))\n",
    "sns.scatterplot(listing.longitude,listing.latitude,hue=listing.room_type).set_title(title)\n",
    "plt.ioff()"
   ]
  },
  {
   "cell_type": "code",
   "execution_count": null,
   "id": "f4b85f2a",
   "metadata": {},
   "outputs": [],
   "source": []
  },
  {
   "cell_type": "markdown",
   "id": "8016d718",
   "metadata": {},
   "source": [
    "- Dataset 2: Review"
   ]
  },
  {
   "cell_type": "code",
   "execution_count": null,
   "id": "537122ac",
   "metadata": {},
   "outputs": [],
   "source": [
    "#Importing the dataset #2\n",
    "#The dataset chosen for this project is reviews for Airbnb \n",
    "review = pd.read_csv('reviews.csv')"
   ]
  },
  {
   "cell_type": "code",
   "execution_count": null,
   "id": "dc181041",
   "metadata": {},
   "outputs": [],
   "source": [
    "#View dataset head and tail\n",
    "review.head()"
   ]
  },
  {
   "cell_type": "code",
   "execution_count": null,
   "id": "27fd8bd6",
   "metadata": {},
   "outputs": [],
   "source": [
    "review.tail()"
   ]
  },
  {
   "cell_type": "code",
   "execution_count": null,
   "id": "f0d392da",
   "metadata": {},
   "outputs": [],
   "source": [
    "review.shape"
   ]
  },
  {
   "cell_type": "code",
   "execution_count": null,
   "id": "d583a3dc",
   "metadata": {},
   "outputs": [],
   "source": [
    "review.info()"
   ]
  },
  {
   "cell_type": "code",
   "execution_count": null,
   "id": "dadda3bf",
   "metadata": {},
   "outputs": [],
   "source": [
    "#Print quick summary of the dataset statistics\n",
    "review.describe()"
   ]
  },
  {
   "cell_type": "code",
   "execution_count": null,
   "id": "8a4db12c",
   "metadata": {},
   "outputs": [],
   "source": [
    "#Check for null values\n",
    "review.isnull().sum()"
   ]
  },
  {
   "cell_type": "code",
   "execution_count": null,
   "id": "0e718398",
   "metadata": {},
   "outputs": [],
   "source": [
    "#Replacing all NaN values with 0\n",
    "review.fillna({'comments':0}, inplace=True)"
   ]
  },
  {
   "cell_type": "code",
   "execution_count": null,
   "id": "92066e98",
   "metadata": {},
   "outputs": [],
   "source": [
    "#Check for null values\n",
    "review.isnull().sum()"
   ]
  },
  {
   "cell_type": "code",
   "execution_count": null,
   "id": "a9921fb7",
   "metadata": {},
   "outputs": [],
   "source": [
    "#Examine the dataset\n",
    "#(review[['Star Rating', 'o']]\n",
    "# .describe())"
   ]
  },
  {
   "cell_type": "code",
   "execution_count": null,
   "id": "1137de61",
   "metadata": {},
   "outputs": [],
   "source": [
    "review['date'].value_counts()"
   ]
  },
  {
   "cell_type": "code",
   "execution_count": null,
   "id": "724fd0af",
   "metadata": {},
   "outputs": [],
   "source": [
    "review.groupby('listing_id')['date'].value_counts()"
   ]
  },
  {
   "cell_type": "code",
   "execution_count": null,
   "id": "414519eb",
   "metadata": {},
   "outputs": [],
   "source": []
  },
  {
   "cell_type": "code",
   "execution_count": null,
   "id": "2d75d3b9",
   "metadata": {},
   "outputs": [],
   "source": []
  },
  {
   "cell_type": "markdown",
   "id": "bf4f374c",
   "metadata": {},
   "source": [
    "- Dataset 3: Calendar"
   ]
  },
  {
   "cell_type": "code",
   "execution_count": null,
   "id": "7f9d0da7",
   "metadata": {},
   "outputs": [],
   "source": [
    "#Importing the dataset # 3\n",
    "#The dataset chosen for this project is calendar for Airbnb\n",
    "calendar = pd.read_csv('calendar.csv')"
   ]
  },
  {
   "cell_type": "code",
   "execution_count": null,
   "id": "2ce01982",
   "metadata": {},
   "outputs": [],
   "source": [
    "# Muhammad to add his code here"
   ]
  },
  {
   "cell_type": "markdown",
   "id": "a762c6a8",
   "metadata": {},
   "source": [
    "- Dataset 4: airbnb-listing"
   ]
  },
  {
   "cell_type": "code",
   "execution_count": null,
   "id": "e755b249",
   "metadata": {},
   "outputs": [],
   "source": [
    "#Importing the dataset # 4\n",
    "#The dataset chosen for this project is the Dublin listings from OpenData \n",
    "airbnb_listing = pd.read_csv('airbnb-listings.csv', sep=\";\")\n",
    "\n",
    "#Muhammad to add his code here"
   ]
  },
  {
   "cell_type": "markdown",
   "id": "644f2daa",
   "metadata": {},
   "source": [
    "- Dataset 5: airbnb-opendata"
   ]
  },
  {
   "cell_type": "code",
   "execution_count": null,
   "id": "128698bc",
   "metadata": {},
   "outputs": [],
   "source": [
    "#Importing the dataset # 5\n",
    "#The dataset chosen for this project is Dublin listings from OpenData \n",
    "airbnb_listing1 = pd.read_csv('airbnb-opendata.csv', sep=\";\")\n",
    "\n",
    "#Muhammad to add his code here"
   ]
  },
  {
   "cell_type": "markdown",
   "id": "36af9a47",
   "metadata": {},
   "source": [
    "- Dataset 6: Rate"
   ]
  },
  {
   "cell_type": "code",
   "execution_count": 17,
   "id": "c64cc585",
   "metadata": {},
   "outputs": [],
   "source": [
    "#Importing the dataset # 6\n",
    "#The dataset chosen for this project is Dublin rate from Airbtics \n",
    "rate = pd.read_csv('rate.csv')\n",
    "\n",
    "#This dataset is a sample, however it contains a lot of information that can be used for this project."
   ]
  },
  {
   "cell_type": "code",
   "execution_count": null,
   "id": "6c0a1403",
   "metadata": {},
   "outputs": [],
   "source": [
    "rate.head()"
   ]
  },
  {
   "cell_type": "code",
   "execution_count": null,
   "id": "f7c416ff",
   "metadata": {},
   "outputs": [],
   "source": [
    "rate.tail()"
   ]
  },
  {
   "cell_type": "code",
   "execution_count": 20,
   "id": "b93486e7",
   "metadata": {},
   "outputs": [],
   "source": [
    "#Based on the information on the dataset itself, the following column names were added. \n",
    "rate.columns = [\n",
    "    \"Listing URL\", \"Property Type\", \"Latitude\", \"Longitude\", \"Star Rating\", \"Number of Active Days\",\n",
    "    \"Bedrooms\", \"Has pool\", \"Cleaning Fee\", \"Extra Guest Fee\", \"Daily Rate (2020-11)\", \"Daily Rate (2020-12)\",\n",
    "    \"Daily Rate (2021-01)\", \"Daily Rate (2021-02)\", \"Daily Rate (2021-03)\", \"Daily Rate (2021-04)\",\n",
    "    \"Daily Rate (2021-05)\", \"Daily Rate (2021-06)\", \"Daily Rate (2021-07)\", \"Daily Rate (2021-08)\", \"Daily Rate (2021-09)\",\n",
    "    \"Daily Rate (2021-10)\", \"Occupancy Rate (2020-11)\", \"Occupancy Rate (2020-12)\", \"Occupancy Rate (2021-01)\",\n",
    "    \"Occupancy Rate (2021-02)\", \"Occupancy Rate (2021-03)\", \"Occupancy Rate (2021-04)\", \"Occupancy Rate (2021-05)\",\n",
    "    \"Occupancy Rate (2021-06)\", \"Occupancy Rate (2021-07)\", \"Occupancy Rate (2021-08)\", \"Occupancy Rate (2021-09)\",\n",
    "    \"Occupancy Rate (2021-10)\", \"Revenue (2020-11)\", \"Revenue (2020-12)\", \"Revenue (2021-01)\", \"Revenue (2021-02)\",\n",
    "    \"Revenue (2021-03)\", \"Revenue (2021-04)\", \"Revenue (2021-05)\", \"Revenue (2021-06)\", \"Revenue (2021-07)\",\n",
    "    \"Revenue (2021-08)\", \"Revenue (2021-09)\", \"Revenue (2021-10)\",\n",
    "]"
   ]
  },
  {
   "cell_type": "code",
   "execution_count": 21,
   "id": "ca0a23f4",
   "metadata": {},
   "outputs": [],
   "source": [
    "#Drop the two first rows.\n",
    "rate.drop(index=rate.index[0:2], \n",
    "        axis=0, \n",
    "        inplace=True)"
   ]
  },
  {
   "cell_type": "code",
   "execution_count": 22,
   "id": "70b162be",
   "metadata": {},
   "outputs": [
    {
     "data": {
      "text/html": [
       "<div>\n",
       "<style scoped>\n",
       "    .dataframe tbody tr th:only-of-type {\n",
       "        vertical-align: middle;\n",
       "    }\n",
       "\n",
       "    .dataframe tbody tr th {\n",
       "        vertical-align: top;\n",
       "    }\n",
       "\n",
       "    .dataframe thead th {\n",
       "        text-align: right;\n",
       "    }\n",
       "</style>\n",
       "<table border=\"1\" class=\"dataframe\">\n",
       "  <thead>\n",
       "    <tr style=\"text-align: right;\">\n",
       "      <th></th>\n",
       "      <th>Listing URL</th>\n",
       "      <th>Property Type</th>\n",
       "      <th>Latitude</th>\n",
       "      <th>Longitude</th>\n",
       "      <th>Star Rating</th>\n",
       "      <th>Number of Active Days</th>\n",
       "      <th>Bedrooms</th>\n",
       "      <th>Has pool</th>\n",
       "      <th>Cleaning Fee</th>\n",
       "      <th>Extra Guest Fee</th>\n",
       "      <th>...</th>\n",
       "      <th>Revenue (2021-01)</th>\n",
       "      <th>Revenue (2021-02)</th>\n",
       "      <th>Revenue (2021-03)</th>\n",
       "      <th>Revenue (2021-04)</th>\n",
       "      <th>Revenue (2021-05)</th>\n",
       "      <th>Revenue (2021-06)</th>\n",
       "      <th>Revenue (2021-07)</th>\n",
       "      <th>Revenue (2021-08)</th>\n",
       "      <th>Revenue (2021-09)</th>\n",
       "      <th>Revenue (2021-10)</th>\n",
       "    </tr>\n",
       "  </thead>\n",
       "  <tbody>\n",
       "    <tr>\n",
       "      <th>2</th>\n",
       "      <td>http://airbnb.com/rooms/47311</td>\n",
       "      <td>entire_home</td>\n",
       "      <td>50.81523</td>\n",
       "      <td>-0.10806</td>\n",
       "      <td>4.3</td>\n",
       "      <td>274</td>\n",
       "      <td>1</td>\n",
       "      <td>f</td>\n",
       "      <td>37</td>\n",
       "      <td>0</td>\n",
       "      <td>...</td>\n",
       "      <td>62</td>\n",
       "      <td>1069</td>\n",
       "      <td>1588</td>\n",
       "      <td>2076</td>\n",
       "      <td>2636</td>\n",
       "      <td>3237</td>\n",
       "      <td>3206</td>\n",
       "      <td>0</td>\n",
       "      <td>0</td>\n",
       "      <td>0</td>\n",
       "    </tr>\n",
       "    <tr>\n",
       "      <th>3</th>\n",
       "      <td>http://airbnb.com/rooms/74819</td>\n",
       "      <td>Entire Home</td>\n",
       "      <td>50.82145</td>\n",
       "      <td>-0.14257</td>\n",
       "      <td>4.9</td>\n",
       "      <td>243</td>\n",
       "      <td>3</td>\n",
       "      <td>f</td>\n",
       "      <td>52</td>\n",
       "      <td>0</td>\n",
       "      <td>...</td>\n",
       "      <td>7078</td>\n",
       "      <td>0</td>\n",
       "      <td>0</td>\n",
       "      <td>15587</td>\n",
       "      <td>0</td>\n",
       "      <td>0</td>\n",
       "      <td>15521</td>\n",
       "      <td>15622</td>\n",
       "      <td>13314</td>\n",
       "      <td>11036</td>\n",
       "    </tr>\n",
       "    <tr>\n",
       "      <th>4</th>\n",
       "      <td>http://airbnb.com/rooms/76190</td>\n",
       "      <td>entire_home</td>\n",
       "      <td>50.82369</td>\n",
       "      <td>-0.15587</td>\n",
       "      <td>4.5</td>\n",
       "      <td>365</td>\n",
       "      <td>3</td>\n",
       "      <td>f</td>\n",
       "      <td>63</td>\n",
       "      <td>5.04667</td>\n",
       "      <td>...</td>\n",
       "      <td>5920</td>\n",
       "      <td>833</td>\n",
       "      <td>2495</td>\n",
       "      <td>5881</td>\n",
       "      <td>7672</td>\n",
       "      <td>9570</td>\n",
       "      <td>9927</td>\n",
       "      <td>10492</td>\n",
       "      <td>6317</td>\n",
       "      <td>2113</td>\n",
       "    </tr>\n",
       "    <tr>\n",
       "      <th>5</th>\n",
       "      <td>http://airbnb.com/rooms/98654</td>\n",
       "      <td>entire_home</td>\n",
       "      <td>50.82094</td>\n",
       "      <td>-0.12963</td>\n",
       "      <td>4.5</td>\n",
       "      <td>365</td>\n",
       "      <td>2</td>\n",
       "      <td>f</td>\n",
       "      <td>80</td>\n",
       "      <td>4.94667</td>\n",
       "      <td>...</td>\n",
       "      <td>2283</td>\n",
       "      <td>2283</td>\n",
       "      <td>2283</td>\n",
       "      <td>2283</td>\n",
       "      <td>2283</td>\n",
       "      <td>2283</td>\n",
       "      <td>2283</td>\n",
       "      <td>2283</td>\n",
       "      <td>2283</td>\n",
       "      <td>2283</td>\n",
       "    </tr>\n",
       "    <tr>\n",
       "      <th>6</th>\n",
       "      <td>http://airbnb.com/rooms/146850</td>\n",
       "      <td>condo</td>\n",
       "      <td>50.82178</td>\n",
       "      <td>-0.12914</td>\n",
       "      <td>4.8</td>\n",
       "      <td>274</td>\n",
       "      <td>1</td>\n",
       "      <td>f</td>\n",
       "      <td>0</td>\n",
       "      <td>0</td>\n",
       "      <td>...</td>\n",
       "      <td>819</td>\n",
       "      <td>0</td>\n",
       "      <td>0</td>\n",
       "      <td>1067</td>\n",
       "      <td>960</td>\n",
       "      <td>0</td>\n",
       "      <td>1067</td>\n",
       "      <td>1046</td>\n",
       "      <td>974</td>\n",
       "      <td>1005</td>\n",
       "    </tr>\n",
       "  </tbody>\n",
       "</table>\n",
       "<p>5 rows × 46 columns</p>\n",
       "</div>"
      ],
      "text/plain": [
       "                      Listing URL Property Type  Latitude Longitude  \\\n",
       "2   http://airbnb.com/rooms/47311   entire_home  50.81523  -0.10806   \n",
       "3   http://airbnb.com/rooms/74819   Entire Home  50.82145  -0.14257   \n",
       "4   http://airbnb.com/rooms/76190   entire_home  50.82369  -0.15587   \n",
       "5   http://airbnb.com/rooms/98654   entire_home  50.82094  -0.12963   \n",
       "6  http://airbnb.com/rooms/146850         condo  50.82178  -0.12914   \n",
       "\n",
       "  Star Rating Number of Active Days Bedrooms Has pool Cleaning Fee  \\\n",
       "2         4.3                   274        1        f           37   \n",
       "3         4.9                   243        3        f           52   \n",
       "4         4.5                   365        3        f           63   \n",
       "5         4.5                   365        2        f           80   \n",
       "6         4.8                   274        1        f            0   \n",
       "\n",
       "  Extra Guest Fee  ... Revenue (2021-01) Revenue (2021-02) Revenue (2021-03)  \\\n",
       "2               0  ...                62              1069              1588   \n",
       "3               0  ...              7078                 0                 0   \n",
       "4         5.04667  ...              5920               833              2495   \n",
       "5         4.94667  ...              2283              2283              2283   \n",
       "6               0  ...               819                 0                 0   \n",
       "\n",
       "  Revenue (2021-04) Revenue (2021-05) Revenue (2021-06) Revenue (2021-07)  \\\n",
       "2              2076              2636              3237              3206   \n",
       "3             15587                 0                 0             15521   \n",
       "4              5881              7672              9570              9927   \n",
       "5              2283              2283              2283              2283   \n",
       "6              1067               960                 0              1067   \n",
       "\n",
       "  Revenue (2021-08) Revenue (2021-09) Revenue (2021-10)  \n",
       "2                 0                 0                 0  \n",
       "3             15622             13314             11036  \n",
       "4             10492              6317              2113  \n",
       "5              2283              2283              2283  \n",
       "6              1046               974              1005  \n",
       "\n",
       "[5 rows x 46 columns]"
      ]
     },
     "execution_count": 22,
     "metadata": {},
     "output_type": "execute_result"
    }
   ],
   "source": [
    "rate.head()"
   ]
  },
  {
   "cell_type": "code",
   "execution_count": null,
   "id": "76ffd2a1",
   "metadata": {
    "scrolled": true
   },
   "outputs": [],
   "source": [
    "#Examine the dataset\n",
    "(rate[['Star Rating', 'Number of Active Days', 'Daily Rate (2020-12)', 'Occupancy Rate (2020-12)',\n",
    "       'Revenue (2020-12)']]\n",
    " .describe())"
   ]
  },
  {
   "cell_type": "code",
   "execution_count": null,
   "id": "e6bd03bf",
   "metadata": {},
   "outputs": [],
   "source": [
    "rate.info()"
   ]
  },
  {
   "cell_type": "code",
   "execution_count": null,
   "id": "8588dda1",
   "metadata": {},
   "outputs": [],
   "source": [
    "#View number of null values\n",
    "rate.isnull().sum()"
   ]
  },
  {
   "cell_type": "code",
   "execution_count": null,
   "id": "76afc48b",
   "metadata": {},
   "outputs": [],
   "source": [
    "#Replace all NaN values with 0\n",
    "rate.fillna({'Cleaning Fee':0}, inplace=True)\n",
    "rate.fillna({'Extra Guest Fee':0}, inplace=True)"
   ]
  },
  {
   "cell_type": "code",
   "execution_count": null,
   "id": "20c28085",
   "metadata": {},
   "outputs": [],
   "source": [
    "#Check null values again\n",
    "rate.isnull().sum()"
   ]
  },
  {
   "cell_type": "code",
   "execution_count": 18,
   "id": "7e2f8d54",
   "metadata": {},
   "outputs": [
    {
     "ename": "ValueError",
     "evalue": "Could not interpret value `` for parameter `x`",
     "output_type": "error",
     "traceback": [
      "\u001b[0;31m---------------------------------------------------------------------------\u001b[0m",
      "\u001b[0;31mValueError\u001b[0m                                Traceback (most recent call last)",
      "\u001b[1;32m/workspace/finalyearproject/short_term_rental_final .ipynb Cell 60'\u001b[0m in \u001b[0;36m<cell line: 1>\u001b[0;34m()\u001b[0m\n\u001b[0;32m----> <a href='vscode-notebook-cell://malouisek-finalyearproj-k0lm68cnsy3.ws-us34.gitpod.io/workspace/finalyearproject/short_term_rental_final%20.ipynb#ch0000055vscode-remote?line=0'>1</a>\u001b[0m sns\u001b[39m.\u001b[39;49mdisplot(rate, x\u001b[39m=\u001b[39;49m\u001b[39m\"\u001b[39;49m\u001b[39m\"\u001b[39;49m)\n",
      "File \u001b[0;32m~/.pyenv/versions/3.8.12/lib/python3.8/site-packages/seaborn/distributions.py:2194\u001b[0m, in \u001b[0;36mdisplot\u001b[0;34m(data, x, y, hue, row, col, weights, kind, rug, rug_kws, log_scale, legend, palette, hue_order, hue_norm, color, col_wrap, row_order, col_order, height, aspect, facet_kws, **kwargs)\u001b[0m\n\u001b[1;32m   <a href='file:///home/gitpod/.pyenv/versions/3.8.12/lib/python3.8/site-packages/seaborn/distributions.py?line=2179'>2180</a>\u001b[0m \u001b[39mdef\u001b[39;00m \u001b[39mdisplot\u001b[39m(\n\u001b[1;32m   <a href='file:///home/gitpod/.pyenv/versions/3.8.12/lib/python3.8/site-packages/seaborn/distributions.py?line=2180'>2181</a>\u001b[0m     data\u001b[39m=\u001b[39m\u001b[39mNone\u001b[39;00m, \u001b[39m*\u001b[39m,\n\u001b[1;32m   <a href='file:///home/gitpod/.pyenv/versions/3.8.12/lib/python3.8/site-packages/seaborn/distributions.py?line=2181'>2182</a>\u001b[0m     \u001b[39m# Vector variables\u001b[39;00m\n\u001b[0;32m   (...)\u001b[0m\n\u001b[1;32m   <a href='file:///home/gitpod/.pyenv/versions/3.8.12/lib/python3.8/site-packages/seaborn/distributions.py?line=2190'>2191</a>\u001b[0m     \u001b[39m*\u001b[39m\u001b[39m*\u001b[39mkwargs,\n\u001b[1;32m   <a href='file:///home/gitpod/.pyenv/versions/3.8.12/lib/python3.8/site-packages/seaborn/distributions.py?line=2191'>2192</a>\u001b[0m ):\n\u001b[0;32m-> <a href='file:///home/gitpod/.pyenv/versions/3.8.12/lib/python3.8/site-packages/seaborn/distributions.py?line=2193'>2194</a>\u001b[0m     p \u001b[39m=\u001b[39m _DistributionFacetPlotter(\n\u001b[1;32m   <a href='file:///home/gitpod/.pyenv/versions/3.8.12/lib/python3.8/site-packages/seaborn/distributions.py?line=2194'>2195</a>\u001b[0m         data\u001b[39m=\u001b[39;49mdata,\n\u001b[1;32m   <a href='file:///home/gitpod/.pyenv/versions/3.8.12/lib/python3.8/site-packages/seaborn/distributions.py?line=2195'>2196</a>\u001b[0m         variables\u001b[39m=\u001b[39;49m_DistributionFacetPlotter\u001b[39m.\u001b[39;49mget_semantics(\u001b[39mlocals\u001b[39;49m())\n\u001b[1;32m   <a href='file:///home/gitpod/.pyenv/versions/3.8.12/lib/python3.8/site-packages/seaborn/distributions.py?line=2196'>2197</a>\u001b[0m     )\n\u001b[1;32m   <a href='file:///home/gitpod/.pyenv/versions/3.8.12/lib/python3.8/site-packages/seaborn/distributions.py?line=2198'>2199</a>\u001b[0m     p\u001b[39m.\u001b[39mmap_hue(palette\u001b[39m=\u001b[39mpalette, order\u001b[39m=\u001b[39mhue_order, norm\u001b[39m=\u001b[39mhue_norm)\n\u001b[1;32m   <a href='file:///home/gitpod/.pyenv/versions/3.8.12/lib/python3.8/site-packages/seaborn/distributions.py?line=2200'>2201</a>\u001b[0m     _check_argument(\u001b[39m\"\u001b[39m\u001b[39mkind\u001b[39m\u001b[39m\"\u001b[39m, [\u001b[39m\"\u001b[39m\u001b[39mhist\u001b[39m\u001b[39m\"\u001b[39m, \u001b[39m\"\u001b[39m\u001b[39mkde\u001b[39m\u001b[39m\"\u001b[39m, \u001b[39m\"\u001b[39m\u001b[39mecdf\u001b[39m\u001b[39m\"\u001b[39m], kind)\n",
      "File \u001b[0;32m~/.pyenv/versions/3.8.12/lib/python3.8/site-packages/seaborn/distributions.py:111\u001b[0m, in \u001b[0;36m_DistributionPlotter.__init__\u001b[0;34m(self, data, variables)\u001b[0m\n\u001b[1;32m    <a href='file:///home/gitpod/.pyenv/versions/3.8.12/lib/python3.8/site-packages/seaborn/distributions.py?line=104'>105</a>\u001b[0m \u001b[39mdef\u001b[39;00m \u001b[39m__init__\u001b[39m(\n\u001b[1;32m    <a href='file:///home/gitpod/.pyenv/versions/3.8.12/lib/python3.8/site-packages/seaborn/distributions.py?line=105'>106</a>\u001b[0m     \u001b[39mself\u001b[39m,\n\u001b[1;32m    <a href='file:///home/gitpod/.pyenv/versions/3.8.12/lib/python3.8/site-packages/seaborn/distributions.py?line=106'>107</a>\u001b[0m     data\u001b[39m=\u001b[39m\u001b[39mNone\u001b[39;00m,\n\u001b[1;32m    <a href='file:///home/gitpod/.pyenv/versions/3.8.12/lib/python3.8/site-packages/seaborn/distributions.py?line=107'>108</a>\u001b[0m     variables\u001b[39m=\u001b[39m{},\n\u001b[1;32m    <a href='file:///home/gitpod/.pyenv/versions/3.8.12/lib/python3.8/site-packages/seaborn/distributions.py?line=108'>109</a>\u001b[0m ):\n\u001b[0;32m--> <a href='file:///home/gitpod/.pyenv/versions/3.8.12/lib/python3.8/site-packages/seaborn/distributions.py?line=110'>111</a>\u001b[0m     \u001b[39msuper\u001b[39;49m()\u001b[39m.\u001b[39;49m\u001b[39m__init__\u001b[39;49m(data\u001b[39m=\u001b[39;49mdata, variables\u001b[39m=\u001b[39;49mvariables)\n",
      "File \u001b[0;32m~/.pyenv/versions/3.8.12/lib/python3.8/site-packages/seaborn/_core.py:605\u001b[0m, in \u001b[0;36mVectorPlotter.__init__\u001b[0;34m(self, data, variables)\u001b[0m\n\u001b[1;32m    <a href='file:///home/gitpod/.pyenv/versions/3.8.12/lib/python3.8/site-packages/seaborn/_core.py?line=602'>603</a>\u001b[0m \u001b[39mdef\u001b[39;00m \u001b[39m__init__\u001b[39m(\u001b[39mself\u001b[39m, data\u001b[39m=\u001b[39m\u001b[39mNone\u001b[39;00m, variables\u001b[39m=\u001b[39m{}):\n\u001b[0;32m--> <a href='file:///home/gitpod/.pyenv/versions/3.8.12/lib/python3.8/site-packages/seaborn/_core.py?line=604'>605</a>\u001b[0m     \u001b[39mself\u001b[39;49m\u001b[39m.\u001b[39;49massign_variables(data, variables)\n\u001b[1;32m    <a href='file:///home/gitpod/.pyenv/versions/3.8.12/lib/python3.8/site-packages/seaborn/_core.py?line=606'>607</a>\u001b[0m     \u001b[39mfor\u001b[39;00m var, \u001b[39mcls\u001b[39m \u001b[39min\u001b[39;00m \u001b[39mself\u001b[39m\u001b[39m.\u001b[39m_semantic_mappings\u001b[39m.\u001b[39mitems():\n\u001b[1;32m    <a href='file:///home/gitpod/.pyenv/versions/3.8.12/lib/python3.8/site-packages/seaborn/_core.py?line=607'>608</a>\u001b[0m \n\u001b[1;32m    <a href='file:///home/gitpod/.pyenv/versions/3.8.12/lib/python3.8/site-packages/seaborn/_core.py?line=608'>609</a>\u001b[0m         \u001b[39m# Create the mapping function\u001b[39;00m\n\u001b[1;32m    <a href='file:///home/gitpod/.pyenv/versions/3.8.12/lib/python3.8/site-packages/seaborn/_core.py?line=609'>610</a>\u001b[0m         map_func \u001b[39m=\u001b[39m partial(\u001b[39mcls\u001b[39m\u001b[39m.\u001b[39mmap, plotter\u001b[39m=\u001b[39m\u001b[39mself\u001b[39m)\n",
      "File \u001b[0;32m~/.pyenv/versions/3.8.12/lib/python3.8/site-packages/seaborn/_core.py:668\u001b[0m, in \u001b[0;36mVectorPlotter.assign_variables\u001b[0;34m(self, data, variables)\u001b[0m\n\u001b[1;32m    <a href='file:///home/gitpod/.pyenv/versions/3.8.12/lib/python3.8/site-packages/seaborn/_core.py?line=665'>666</a>\u001b[0m \u001b[39melse\u001b[39;00m:\n\u001b[1;32m    <a href='file:///home/gitpod/.pyenv/versions/3.8.12/lib/python3.8/site-packages/seaborn/_core.py?line=666'>667</a>\u001b[0m     \u001b[39mself\u001b[39m\u001b[39m.\u001b[39minput_format \u001b[39m=\u001b[39m \u001b[39m\"\u001b[39m\u001b[39mlong\u001b[39m\u001b[39m\"\u001b[39m\n\u001b[0;32m--> <a href='file:///home/gitpod/.pyenv/versions/3.8.12/lib/python3.8/site-packages/seaborn/_core.py?line=667'>668</a>\u001b[0m     plot_data, variables \u001b[39m=\u001b[39m \u001b[39mself\u001b[39;49m\u001b[39m.\u001b[39;49m_assign_variables_longform(\n\u001b[1;32m    <a href='file:///home/gitpod/.pyenv/versions/3.8.12/lib/python3.8/site-packages/seaborn/_core.py?line=668'>669</a>\u001b[0m         data, \u001b[39m*\u001b[39;49m\u001b[39m*\u001b[39;49mvariables,\n\u001b[1;32m    <a href='file:///home/gitpod/.pyenv/versions/3.8.12/lib/python3.8/site-packages/seaborn/_core.py?line=669'>670</a>\u001b[0m     )\n\u001b[1;32m    <a href='file:///home/gitpod/.pyenv/versions/3.8.12/lib/python3.8/site-packages/seaborn/_core.py?line=671'>672</a>\u001b[0m \u001b[39mself\u001b[39m\u001b[39m.\u001b[39mplot_data \u001b[39m=\u001b[39m plot_data\n\u001b[1;32m    <a href='file:///home/gitpod/.pyenv/versions/3.8.12/lib/python3.8/site-packages/seaborn/_core.py?line=672'>673</a>\u001b[0m \u001b[39mself\u001b[39m\u001b[39m.\u001b[39mvariables \u001b[39m=\u001b[39m variables\n",
      "File \u001b[0;32m~/.pyenv/versions/3.8.12/lib/python3.8/site-packages/seaborn/_core.py:903\u001b[0m, in \u001b[0;36mVectorPlotter._assign_variables_longform\u001b[0;34m(self, data, **kwargs)\u001b[0m\n\u001b[1;32m    <a href='file:///home/gitpod/.pyenv/versions/3.8.12/lib/python3.8/site-packages/seaborn/_core.py?line=897'>898</a>\u001b[0m \u001b[39melif\u001b[39;00m \u001b[39misinstance\u001b[39m(val, (\u001b[39mstr\u001b[39m, \u001b[39mbytes\u001b[39m)):\n\u001b[1;32m    <a href='file:///home/gitpod/.pyenv/versions/3.8.12/lib/python3.8/site-packages/seaborn/_core.py?line=898'>899</a>\u001b[0m \n\u001b[1;32m    <a href='file:///home/gitpod/.pyenv/versions/3.8.12/lib/python3.8/site-packages/seaborn/_core.py?line=899'>900</a>\u001b[0m     \u001b[39m# This looks like a column name but we don't know what it means!\u001b[39;00m\n\u001b[1;32m    <a href='file:///home/gitpod/.pyenv/versions/3.8.12/lib/python3.8/site-packages/seaborn/_core.py?line=901'>902</a>\u001b[0m     err \u001b[39m=\u001b[39m \u001b[39mf\u001b[39m\u001b[39m\"\u001b[39m\u001b[39mCould not interpret value `\u001b[39m\u001b[39m{\u001b[39;00mval\u001b[39m}\u001b[39;00m\u001b[39m` for parameter `\u001b[39m\u001b[39m{\u001b[39;00mkey\u001b[39m}\u001b[39;00m\u001b[39m`\u001b[39m\u001b[39m\"\u001b[39m\n\u001b[0;32m--> <a href='file:///home/gitpod/.pyenv/versions/3.8.12/lib/python3.8/site-packages/seaborn/_core.py?line=902'>903</a>\u001b[0m     \u001b[39mraise\u001b[39;00m \u001b[39mValueError\u001b[39;00m(err)\n\u001b[1;32m    <a href='file:///home/gitpod/.pyenv/versions/3.8.12/lib/python3.8/site-packages/seaborn/_core.py?line=904'>905</a>\u001b[0m \u001b[39melse\u001b[39;00m:\n\u001b[1;32m    <a href='file:///home/gitpod/.pyenv/versions/3.8.12/lib/python3.8/site-packages/seaborn/_core.py?line=905'>906</a>\u001b[0m \n\u001b[1;32m    <a href='file:///home/gitpod/.pyenv/versions/3.8.12/lib/python3.8/site-packages/seaborn/_core.py?line=906'>907</a>\u001b[0m     \u001b[39m# Otherwise, assume the value is itself data\u001b[39;00m\n\u001b[1;32m    <a href='file:///home/gitpod/.pyenv/versions/3.8.12/lib/python3.8/site-packages/seaborn/_core.py?line=907'>908</a>\u001b[0m \n\u001b[1;32m    <a href='file:///home/gitpod/.pyenv/versions/3.8.12/lib/python3.8/site-packages/seaborn/_core.py?line=908'>909</a>\u001b[0m     \u001b[39m# Raise when data object is present and a vector can't matched\u001b[39;00m\n\u001b[1;32m    <a href='file:///home/gitpod/.pyenv/versions/3.8.12/lib/python3.8/site-packages/seaborn/_core.py?line=909'>910</a>\u001b[0m     \u001b[39mif\u001b[39;00m \u001b[39misinstance\u001b[39m(data, pd\u001b[39m.\u001b[39mDataFrame) \u001b[39mand\u001b[39;00m \u001b[39mnot\u001b[39;00m \u001b[39misinstance\u001b[39m(val, pd\u001b[39m.\u001b[39mSeries):\n",
      "\u001b[0;31mValueError\u001b[0m: Could not interpret value `` for parameter `x`"
     ]
    }
   ],
   "source": [
    "#sns.displot(rate, x=\"\")\n",
    "#rate this by a predominant variable"
   ]
  },
  {
   "cell_type": "code",
   "execution_count": null,
   "id": "d6026f76",
   "metadata": {},
   "outputs": [],
   "source": [
    "#Find correlations between data\n",
    "corr = rate.corr()"
   ]
  },
  {
   "cell_type": "code",
   "execution_count": null,
   "id": "6e1bc9f4",
   "metadata": {},
   "outputs": [],
   "source": [
    "corr.style.background_gradient(cmap = 'coolwarm')"
   ]
  },
  {
   "cell_type": "code",
   "execution_count": null,
   "id": "327a12f4",
   "metadata": {},
   "outputs": [],
   "source": [
    "#Correlations - example \n",
    "\n",
    "rate.corr() # Whole correlation matrix\n",
    "rate.corr()['revenue_mean'] # Check correlations with outcome only\n",
    "sns.heatmap(rate.corr(), cmap=\"seismic\", annot=True, vmin=-1, vmax=1);"
   ]
  },
  {
   "cell_type": "code",
   "execution_count": null,
   "id": "8d1f99d4",
   "metadata": {},
   "outputs": [],
   "source": [
    "#Correlations - example \n",
    "\n",
    "rate.corr() # Whole correlation matrix\n",
    "rate.corr()['daily_rate_mean'] # Check correlations with outcome only\n",
    "sns.heatmap(rate.corr(), cmap=\"seismic\", annot=True, vmin=-1, vmax=1);"
   ]
  },
  {
   "cell_type": "code",
   "execution_count": null,
   "id": "9d7f1595",
   "metadata": {},
   "outputs": [],
   "source": [
    "#Correlations - example \n",
    "\n",
    "rate.corr() # Whole correlation matrix\n",
    "rate.corr()['occupancy_mean'] # Check correlations with outcome only\n",
    "sns.heatmap(rate.corr(), cmap=\"seismic\", annot=True, vmin=-1, vmax=1);"
   ]
  },
  {
   "cell_type": "markdown",
   "id": "15c57b98",
   "metadata": {},
   "source": [
    "Data Preparation"
   ]
  },
  {
   "cell_type": "code",
   "execution_count": null,
   "id": "2d5a3a7b",
   "metadata": {},
   "outputs": [],
   "source": [
    "# Import packages\n",
    "import pandas as pd\n",
    "import patsy\n",
    "import statsmodels.api as sm\n",
    "import statsmodels.formula.api as smf\n",
    "import statsmodels.api as sm\n",
    "from statsmodels.stats.outliers_influence import variance_inflation_factor\n",
    "from sklearn.preprocessing import StandardScaler, PolynomialFeatures\n",
    "from sklearn.model_selection import train_test_split\n",
    "from sklearn.linear_model import lars_path\n",
    "from sklearn.linear_model import LinearRegression, Lasso, LassoCV\n",
    "from sklearn.metrics import r2_score\n",
    "import scipy.stats as stats\n",
    "# Visualization\n",
    "import seaborn as sns\n",
    "import matplotlib.pyplot as plt\n",
    "%matplotlib inline"
   ]
  },
  {
   "cell_type": "markdown",
   "id": "9778974e",
   "metadata": {},
   "source": [
    "- Listing Dataset"
   ]
  },
  {
   "cell_type": "code",
   "execution_count": null,
   "id": "373f982f",
   "metadata": {},
   "outputs": [],
   "source": [
    "(listing[['price', 'minimum_nights', 'number_of_reviews', 'reviews_per_month',\n",
    "       'calculated_host_listings_count', 'availability_365']]\n",
    " .describe())"
   ]
  },
  {
   "cell_type": "code",
   "execution_count": null,
   "id": "d85dfb9f",
   "metadata": {},
   "outputs": [],
   "source": [
    "listing = listing.loc[listing['price'] > 0]"
   ]
  },
  {
   "cell_type": "code",
   "execution_count": null,
   "id": "7492adbd",
   "metadata": {},
   "outputs": [],
   "source": [
    "listing.describe()"
   ]
  },
  {
   "cell_type": "code",
   "execution_count": null,
   "id": "381f1296",
   "metadata": {},
   "outputs": [],
   "source": [
    "# Recode data as categorical\n",
    "# https://datascience.stackexchange.com/questions/29093/continuous-variable-to-categorical-by-quartiles\n",
    "listing_encoded = listing.copy()\n",
    "listing_encoded['minimum_nights'] = pd.qcut(listing['minimum_nights'], q=2, labels=[\"minimum_nights_low\", \"minimum_nights_high\"])\n",
    "listing_encoded['number_of_reviews'] = pd.qcut(listing['number_of_reviews'], q=3, labels=[\"number_of_reviews_low\", \"minimum_nights_medium\", \"number_of_reviews_high\"])\n",
    "listing_encoded['reviews_per_month'] = pd.qcut(listing['reviews_per_month'], q=2, labels=[\"reviews_per_month_low\", \"reviews_per_month_high\"])\n",
    "listing_encoded['calculated_host_listings_count'] = pd.cut(listing['calculated_host_listings_count'], \n",
    "                                                bins=[0, 2, 327],\n",
    "                                                labels=[\"calculated_host_listings_count_low\", \"calculated_host_listings_count_high\"])\n",
    "\n",
    "#NEEDS TO BE FIXED\n",
    "#listing_encoded['availability_365'] = pd.qcut(listing['availability_365'], q=2, labels=[\"availability_low\", \"availability_high\"])\n"
   ]
  },
  {
   "cell_type": "code",
   "execution_count": null,
   "id": "10bbbf56",
   "metadata": {},
   "outputs": [],
   "source": [
    "listing_encoded.isnull().sum()"
   ]
  },
  {
   "cell_type": "code",
   "execution_count": null,
   "id": "a7b312bd",
   "metadata": {},
   "outputs": [],
   "source": [
    "sns.set_palette(\"muted\")\n",
    "from pylab import *\n",
    "f, ax = plt.subplots(figsize=(8, 6))\n",
    "\n",
    "subplot(2,3,1)\n",
    "sns.distplot(listing['price'])\n",
    "\n",
    "subplot(2,3,2)\n",
    "sns.distplot(listing['minimum_nights'])\n",
    "\n",
    "subplot(2,3,3)\n",
    "sns.distplot(listing['number_of_reviews'])\n",
    "\n",
    "subplot(2,3,4)\n",
    "sns.distplot(listing['reviews_per_month'])\n",
    "\n",
    "subplot(2,3,5)\n",
    "sns.distplot(listing['calculated_host_listings_count'])\n",
    "\n",
    "subplot(2,3,6)\n",
    "sns.distplot(listing['availability_365'])\n",
    "\n",
    "plt.tight_layout() # avoid overlap of plotsplt.draw()"
   ]
  },
  {
   "cell_type": "code",
   "execution_count": null,
   "id": "1b1895b9",
   "metadata": {},
   "outputs": [],
   "source": [
    "from pylab import *\n",
    "f, ax = plt.subplots(figsize=(8, 6))\n",
    "\n",
    "subplot(2,3,1)\n",
    "sns.boxplot(y = listing['price']) \n",
    "\n",
    "subplot(2,3,2)\n",
    "sns.boxplot(y = listing['minimum_nights'])\n",
    "\n",
    "subplot(2,3,3)\n",
    "sns.boxplot(y = listing['number_of_reviews'])\n",
    "\n",
    "subplot(2,3,4)\n",
    "sns.boxplot(y = listing['reviews_per_month'])\n",
    "\n",
    "subplot(2,3,5)\n",
    "sns.boxplot(y = listing['calculated_host_listings_count'])\n",
    "\n",
    "subplot(2,3,6)\n",
    "sns.boxplot(y = listing['availability_365'])\n",
    "\n",
    "plt.tight_layout() # avoid overlap of plots\n",
    "plt.draw()"
   ]
  },
  {
   "cell_type": "markdown",
   "id": "883c8653",
   "metadata": {},
   "source": [
    "- Rate Dataset"
   ]
  },
  {
   "cell_type": "code",
   "execution_count": null,
   "id": "d3da80f8",
   "metadata": {},
   "outputs": [],
   "source": [
    "sns.distplot(rate['daily_rate_mean'], kde=True,);\n",
    "fig = plt.figure()\n",
    "res = stats.probplot(rate['daily_rate_mean'], plot=plt)\n",
    "print(\"Skewness: %f\" % rate['daily_rate_mean'].skew())\n",
    "print(\"Kurtosis: %f\" % rate['daily_rate_mean'].kurt())\n",
    "\n",
    "#This needs to be reviewed as the dataset looks skewed "
   ]
  },
  {
   "cell_type": "code",
   "execution_count": null,
   "id": "fcc8e141",
   "metadata": {},
   "outputs": [],
   "source": [
    "#Separating the dataset into categorical and numeric\n",
    "\n",
    "categorical_col = ['Listing URL','Property Type', 'Has pool']\n",
    "\n",
    "numeric_col = ['Latitude', \n",
    "               'Longitude', \n",
    "               'Star Rating', \n",
    "               'Number of Active Days', \n",
    "               'Bedrooms', \n",
    "               'Cleaning Fee', \n",
    "               'Extra Guest Fee',            \n",
    "               'Daily Rate (2020-11)',         \n",
    "               'Daily Rate (2020-12)',\n",
    "               'Daily Rate (2021-01)',\n",
    "               'Daily Rate (2021-02)',        \n",
    "               'Daily Rate (2021-03)',       \n",
    "                'Daily Rate (2021-04)',        \n",
    "                'Daily Rate (2021-05)',        \n",
    "                'Daily Rate (2021-06)',        \n",
    "                'Daily Rate (2021-07)',        \n",
    "                'Daily Rate (2021-08)',        \n",
    "                'Daily Rate (2021-09)',        \n",
    "                'Daily Rate (2021-10)',        \n",
    "                'Occupancy Rate (2020-11)',    \n",
    "                'Occupancy Rate (2020-12)',   \n",
    "                'Occupancy Rate (2021-01)',    \n",
    "                'Occupancy Rate (2021-02)',    \n",
    "                'Occupancy Rate (2021-03)',    \n",
    "                'Occupancy Rate (2021-04)',    \n",
    "                'Occupancy Rate (2021-05)',    \n",
    "                'Occupancy Rate (2021-06)',    \n",
    "                'Occupancy Rate (2021-07)',    \n",
    "                'Occupancy Rate (2021-08)',    \n",
    "                'Occupancy Rate (2021-09)',    \n",
    "                'Occupancy Rate (2021-10)',   \n",
    "                'Revenue (2020-11)',           \n",
    "                'Revenue (2020-12)',         \n",
    "                'Revenue (2021-01)',           \n",
    "                'Revenue (2021-02)',           \n",
    "                'Revenue (2021-03)',           \n",
    "                'Revenue (2021-04)',           \n",
    "                'Revenue (2021-05)',           \n",
    "                'Revenue (2021-06)',           \n",
    "                'Revenue (2021-07)',           \n",
    "                'Revenue (2021-08)',           \n",
    "                'Revenue (2021-09)',           \n",
    "                'Revenue (2021-10)',\n",
    "              ]\n",
    "\n",
    "#Change the object type to float64 later on"
   ]
  },
  {
   "cell_type": "code",
   "execution_count": null,
   "id": "8d757cbb",
   "metadata": {},
   "outputs": [],
   "source": [
    "print(numeric_col)"
   ]
  },
  {
   "cell_type": "code",
   "execution_count": null,
   "id": "63de3df0",
   "metadata": {},
   "outputs": [],
   "source": [
    "rate[numeric_col] = rate[numeric_col].apply(pd.to_numeric, errors='coerce')"
   ]
  },
  {
   "cell_type": "code",
   "execution_count": null,
   "id": "decc6f12",
   "metadata": {},
   "outputs": [],
   "source": [
    "rate.info()"
   ]
  },
  {
   "cell_type": "code",
   "execution_count": null,
   "id": "b35b3458",
   "metadata": {},
   "outputs": [],
   "source": [
    "#NOT NEEDED - things I tried.\n",
    "#encoding the dataset so that I can add columns for the rates values. \n",
    "#rate['Cleaning Fee'] = rate['Cleaning Fee'].astype(float)"
   ]
  },
  {
   "cell_type": "code",
   "execution_count": null,
   "id": "0a6caf8f",
   "metadata": {},
   "outputs": [],
   "source": [
    "rate.drop(columns=['Listing URL', 'Property Type', 'Latitude', 'Longitude', 'Has pool'])"
   ]
  },
  {
   "cell_type": "code",
   "execution_count": null,
   "id": "27ef5ad5",
   "metadata": {},
   "outputs": [],
   "source": [
    "#Check mean for all the Revenue columns, Occupancy and Daily Rate\n",
    "\n",
    "rate['daily_rate_mean'] = rate[['Daily Rate (2021-01)','Daily Rate (2021-02)', 'Daily Rate (2021-03)','Daily Rate (2021-04)', 'Daily Rate (2021-05)','Daily Rate (2021-06)', 'Daily Rate (2021-07)','Daily Rate (2021-08)', 'Daily Rate (2021-09)','Daily Rate (2021-10)', 'Daily Rate (2020-11)','Daily Rate (2020-12)']].mean(axis=1)\n",
    "\n",
    "rate['revenue_mean'] = rate[['Revenue (2020-11)','Revenue (2020-12)','Revenue (2021-01)','Revenue (2021-02)','Revenue (2021-03)','Revenue (2021-04)',          'Revenue (2021-05)','Revenue (2021-06)','Revenue (2021-07)','Revenue (2021-08)','Revenue (2021-09)','Revenue (2021-10)']].mean(axis=1)\n",
    "\n",
    "rate['occupancy_mean'] = rate[['Occupancy Rate (2020-11)','Occupancy Rate (2020-12)','Occupancy Rate (2021-01)','Occupancy Rate (2021-02)','Occupancy Rate (2021-03)','Occupancy Rate (2021-04)','Occupancy Rate (2021-05)','Occupancy Rate (2021-06)','Occupancy Rate (2021-07)','Occupancy Rate (2021-08)','Occupancy Rate (2021-09)','Occupancy Rate (2021-10)']].mean(axis=1)\n"
   ]
  },
  {
   "cell_type": "code",
   "execution_count": null,
   "id": "a773496f",
   "metadata": {},
   "outputs": [],
   "source": [
    "rate = rate.drop(['Daily Rate (2021-01)','Daily Rate (2021-02)', 'Daily Rate (2021-03)','Daily Rate (2021-04)', 'Daily Rate (2021-05)','Daily Rate (2021-06)', 'Daily Rate (2021-07)','Daily Rate (2021-08)', 'Daily Rate (2021-09)','Daily Rate (2021-10)', 'Daily Rate (2020-11)','Daily Rate (2020-12)','Revenue (2020-11)','Revenue (2020-12)','Revenue (2021-01)','Revenue (2021-02)','Revenue (2021-03)','Revenue (2021-04)','Revenue (2021-05)','Revenue (2021-06)','Revenue (2021-07)','Revenue (2021-08)','Revenue (2021-09)','Revenue (2021-10)','Occupancy Rate (2020-11)','Occupancy Rate (2020-12)','Occupancy Rate (2021-01)','Occupancy Rate (2021-02)','Occupancy Rate (2021-03)','Occupancy Rate (2021-04)','Occupancy Rate (2021-05)','Occupancy Rate (2021-06)','Occupancy Rate (2021-07)','Occupancy Rate (2021-08)','Occupancy Rate (2021-09)','Occupancy Rate (2021-10)'], axis=1)"
   ]
  },
  {
   "cell_type": "code",
   "execution_count": null,
   "id": "eec37025",
   "metadata": {},
   "outputs": [],
   "source": [
    "#del rate['Daily Rate (2021-01)','Daily Rate (2021-02)', 'Daily Rate (2021-03)','Daily Rate (2021-04)', 'Daily Rate (2021-05)','Daily Rate (2021-06)', 'Daily Rate (2021-07)','Daily Rate (2021-08)', 'Daily Rate (2021-09)','Daily Rate (2021-10)', 'Daily Rate (2020-11)','Daily Rate (2020-12)','Revenue (2020-11)','Revenue (2020-12)','Revenue (2021-01)','Revenue (2021-02)','Revenue (2021-03)','Revenue (2021-04)',          'Revenue (2021-05)','Revenue (2021-06)','Revenue (2021-07)','Revenue (2021-08)','Revenue (2021-09)','Revenue (2021-10)','Occupancy Rate (2020-11)','Occupancy Rate (2020-12)','Occupancy Rate (2021-01)','Occupancy Rate (2021-02)','Occupancy Rate (2021-03)','Occupancy Rate (2021-04)','Occupancy Rate (2021-05)','Occupancy Rate (2021-06)','Occupancy Rate (2021-07)','Occupancy Rate (2021-08)','Occupancy Rate (2021-09)','Occupancy Rate (2021-10)']"
   ]
  },
  {
   "cell_type": "code",
   "execution_count": null,
   "id": "a1f7159f",
   "metadata": {},
   "outputs": [],
   "source": [
    "rate.head()"
   ]
  },
  {
   "cell_type": "code",
   "execution_count": null,
   "id": "d67c8943",
   "metadata": {},
   "outputs": [],
   "source": [
    "rate.info()"
   ]
  },
  {
   "cell_type": "markdown",
   "id": "8ade72df",
   "metadata": {},
   "source": [
    "- Reviews Dataset"
   ]
  },
  {
   "cell_type": "code",
   "execution_count": null,
   "id": "93bf00ea",
   "metadata": {},
   "outputs": [],
   "source": []
  },
  {
   "cell_type": "code",
   "execution_count": null,
   "id": "8514ffae",
   "metadata": {},
   "outputs": [],
   "source": []
  },
  {
   "cell_type": "markdown",
   "id": "7a0d3d7b",
   "metadata": {},
   "source": [
    "- Calendar Dataset"
   ]
  },
  {
   "cell_type": "markdown",
   "id": "93875f40",
   "metadata": {},
   "source": [
    "- Airbnb-listings Dataset"
   ]
  },
  {
   "cell_type": "markdown",
   "id": "e79697af",
   "metadata": {},
   "source": [
    "- Airbnb-opendata Dataset"
   ]
  },
  {
   "cell_type": "markdown",
   "id": "d00d4c7a",
   "metadata": {},
   "source": [
    "Predictions"
   ]
  },
  {
   "cell_type": "code",
   "execution_count": null,
   "id": "0fdf73be",
   "metadata": {},
   "outputs": [],
   "source": [
    "# Load the Dataset  \n",
    "#data.drop(['latitude', 'name',], axis=1, inplace=True)\n",
    "listing.drop(['name'], axis=1, inplace=True)\n",
    "listing_copy = listing.copy()"
   ]
  },
  {
   "cell_type": "code",
   "execution_count": null,
   "id": "aedbec35",
   "metadata": {},
   "outputs": [],
   "source": [
    "# log10 transform\n",
    "# https://stackoverflow.com/questions/30794525/adding-one-to-all-the-values-in-a-dataframe\n",
    "# data_copy = data.copy()\n",
    "listing.minimum_nights += 0.000000001\n",
    "listing['minimum_nights'] = np.log10(listing['minimum_nights'])\n",
    "listing.number_of_reviews += 0.000000001\n",
    "listing['number_of_reviews'] = np.log10(listing['number_of_reviews'])\n",
    "listing.reviews_per_month += 0.000000001\n",
    "listing['reviews_per_month'] = np.log10(listing['reviews_per_month'])\n",
    "listing.calculated_host_listings_count += 0.000000001\n",
    "listing['calculated_host_listings_count'] = np.log10(listing['calculated_host_listings_count'])\n",
    "listing.availability_365 += 0.000000001\n",
    "listing['availability_365'] = np.log10(listing['availability_365'])"
   ]
  },
  {
   "cell_type": "code",
   "execution_count": null,
   "id": "083308df",
   "metadata": {},
   "outputs": [],
   "source": [
    "# Encoding categorical data\n",
    "listing = pd.get_dummies(listing, columns=['room_type'], drop_first=True)\n",
    "listing = pd.get_dummies(listing, columns=['neighbourhood'], drop_first=True)\n",
    "listing = pd.get_dummies(listing, columns=['neighbourhood_group'], drop_first=True)"
   ]
  },
  {
   "cell_type": "code",
   "execution_count": null,
   "id": "ae65c505",
   "metadata": {},
   "outputs": [],
   "source": [
    "# Filter the dataset for prices between 50 and $175\n",
    "listing_filtered_low = listing.loc[(listing['price'] < 175)]"
   ]
  },
  {
   "cell_type": "code",
   "execution_count": null,
   "id": "d5909d62",
   "metadata": {},
   "outputs": [],
   "source": [
    "# Filter the dataset for prices superior to $175\n",
    "listing_filtered_high = listing.loc[(listing['price'] > 175)]"
   ]
  },
  {
   "cell_type": "code",
   "execution_count": null,
   "id": "9f868741",
   "metadata": {},
   "outputs": [],
   "source": [
    "# Split the dataset\n",
    "X = listing_filtered_low.drop('price', axis=1).values\n",
    "y = listing_filtered_low['price'].values\n",
    "y = np.log10(y)"
   ]
  },
  {
   "cell_type": "code",
   "execution_count": null,
   "id": "a58e2b3c",
   "metadata": {},
   "outputs": [],
   "source": [
    "# Splitting the dataset into the Training set and Test set\n",
    "from sklearn.model_selection import train_test_split\n",
    "X_train, X_test, y_train, y_test = train_test_split(X, y, test_size = 0.3, random_state = 0)\n",
    "\n",
    "# Fitting Multiple Linear Regression to the Training set\n",
    "from sklearn.linear_model import LinearRegression\n",
    "lr = LinearRegression()\n",
    "lr.fit(X_train, y_train)\n",
    "\n",
    "# Predicting the Test set results\n",
    "y_pred = lr.predict(X_test)"
   ]
  },
  {
   "cell_type": "code",
   "execution_count": null,
   "id": "b125470e",
   "metadata": {},
   "outputs": [],
   "source": [
    "# Compare predicted and actual values\n",
    "df= pd.DataFrame({'Actual': np.round(10 ** y_test, 0), \n",
    "                   'Predicted': np.round(10 ** y_pred, 0)})\n",
    "df.head(10)"
   ]
  },
  {
   "cell_type": "code",
   "execution_count": null,
   "id": "10d421f0",
   "metadata": {},
   "outputs": [],
   "source": [
    "from sklearn.metrics import mean_squared_error\n",
    "from sklearn import metrics\n",
    "from sklearn.metrics import r2_score\n",
    "\n",
    "print('Price mean:', np.round(np.mean(y), 2))  \n",
    "print('Price std:', np.round(np.std(y), 2))\n",
    "print('RMSE:', np.round(np.sqrt(metrics.mean_squared_error(y_test, lr.predict(X_test))), 2))\n",
    "print('R2 score train:', np.round(r2_score(y_train, lr.predict(X_train), multioutput='variance_weighted'), 2))\n",
    "print('R2 score test:', np.round(r2_score(y_test, lr.predict(X_test), multioutput='variance_weighted'), 2))"
   ]
  },
  {
   "cell_type": "code",
   "execution_count": null,
   "id": "4813e3a0",
   "metadata": {},
   "outputs": [],
   "source": [
    "X = listing_filtered_high.drop('price', axis=1).values\n",
    "y = listing_filtered_high['price'].values\n",
    "y = np.log10(y)"
   ]
  },
  {
   "cell_type": "code",
   "execution_count": null,
   "id": "513e33da",
   "metadata": {},
   "outputs": [],
   "source": [
    "# Splitting the dataset into the Training set and Test set\n",
    "from sklearn.model_selection import train_test_split\n",
    "X_train, X_test, y_train, y_test = train_test_split(X, y, test_size = 0.3, random_state = 0)\n",
    "\n",
    "#trying to get rid of the error when not using this line\n",
    "#ValueError: Input contains NaN, infinity or a value too large for dtype('float64').\n",
    "\n",
    "#X_test.fillna(X_test.mean())\n",
    "\n",
    "# Fitting Multiple Linear Regression to the Training set\n",
    "from sklearn.linear_model import LinearRegression\n",
    "lr = LinearRegression()\n",
    "lr.fit(X_train, y_train)\n",
    "\n",
    "# Predicting the Test set results\n",
    "y_pred = lr.predict(X_test)\n",
    "\n"
   ]
  },
  {
   "cell_type": "code",
   "execution_count": null,
   "id": "98122268",
   "metadata": {},
   "outputs": [],
   "source": [
    "df = pd.DataFrame({'Actual': np.round(10 ** y_test, 0), \n",
    "                   'Predicted': np.round(10 ** y_pred, 0)})\n",
    "df.head(10)"
   ]
  },
  {
   "cell_type": "code",
   "execution_count": null,
   "id": "74d6997e",
   "metadata": {},
   "outputs": [],
   "source": [
    "from sklearn.metrics import mean_squared_error\n",
    "from sklearn import metrics\n",
    "from sklearn.metrics import r2_score\n",
    "\n",
    "print('Price mean:', np.round(np.mean(y), 2))  \n",
    "print('Price std:', np.round(np.std(y), 2))\n",
    "print('RMSE:', np.round(np.sqrt(metrics.mean_squared_error(y_test, lr.predict(X_test))), 2))\n",
    "print('R2 score train:', np.round(r2_score(y_train, lr.predict(X_train), multioutput='variance_weighted'), 2))\n",
    "print('R2 score test:', np.round(r2_score(y_test, lr.predict(X_test), multioutput='variance_weighted'), 2))"
   ]
  },
  {
   "cell_type": "code",
   "execution_count": null,
   "id": "8a77b30f",
   "metadata": {},
   "outputs": [],
   "source": [
    "#Random Forest Regression"
   ]
  },
  {
   "cell_type": "code",
   "execution_count": null,
   "id": "780fbd14",
   "metadata": {},
   "outputs": [],
   "source": []
  },
  {
   "cell_type": "code",
   "execution_count": null,
   "id": "81a90141",
   "metadata": {},
   "outputs": [],
   "source": []
  },
  {
   "cell_type": "code",
   "execution_count": null,
   "id": "4e3068bd",
   "metadata": {},
   "outputs": [],
   "source": [
    "#https://jakevdp.github.io/PythonDataScienceHandbook/03.07-merge-and-join.html\n",
    "#http://insideairbnb.com/ireland/\n",
    "#https://public.opendatasoft.com/explore/dataset/airbnb-listings/export/?disjunctive.host_verifications&disjunctive.amenities&disjunctive.features&q=ireland\n",
    "#https://app.airbtics.com/airbnb-data/ireland/0/dublin\n",
    "#https://pandas.pydata.org/docs/reference/api/pandas.DataFrame.iloc.html\n",
    "#https://www.codegrepper.com/code-examples/python/convert+object+to+float64+pandas\n",
    "#"
   ]
  },
  {
   "cell_type": "code",
   "execution_count": null,
   "id": "9b35fdf7",
   "metadata": {},
   "outputs": [],
   "source": []
  }
 ],
 "metadata": {
  "kernelspec": {
   "display_name": "Python 3 (ipykernel)",
   "language": "python",
   "name": "python3"
  },
  "language_info": {
   "codemirror_mode": {
    "name": "ipython",
    "version": 3
   },
   "file_extension": ".py",
   "mimetype": "text/x-python",
   "name": "python",
   "nbconvert_exporter": "python",
   "pygments_lexer": "ipython3",
   "version": "3.8.12"
  }
 },
 "nbformat": 4,
 "nbformat_minor": 5
}
